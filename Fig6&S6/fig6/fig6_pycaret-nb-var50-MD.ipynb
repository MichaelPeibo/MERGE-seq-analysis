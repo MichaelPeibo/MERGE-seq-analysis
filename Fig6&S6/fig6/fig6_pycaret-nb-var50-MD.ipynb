{
 "cells": [
  {
   "cell_type": "code",
   "execution_count": 2,
   "metadata": {
    "scrolled": false
   },
   "outputs": [
    {
     "data": {
      "text/plain": [
       "'/Users/peiboxu/Documents/mbp2016_backup/MERGE-seq/elife/figures_elife_revision/elife_revision/code_file'"
      ]
     },
     "execution_count": 2,
     "metadata": {},
     "output_type": "execute_result"
    }
   ],
   "source": [
    "%pwd"
   ]
  },
  {
   "cell_type": "code",
   "execution_count": 9,
   "metadata": {},
   "outputs": [],
   "source": [
    "#Run the below code in your notebook to check the installed version\n",
    "import shap\n",
    "import matplotlib.pyplot as plt\n",
    "from pycaret.classification import *\n",
    "from sklearn.utils import shuffle\n",
    "import matplotlib.pyplot as plt\n",
    "import random\n",
    "plt.rcParams['pdf.fonttype'] = 'truetype'\n",
    "import numpy as np\n",
    "import pandas as pd"
   ]
  },
  {
   "cell_type": "code",
   "execution_count": 10,
   "metadata": {},
   "outputs": [],
   "source": [
    "df=pd.read_csv('../results/fig6_var100_MD_valid_binary_normdata_allcells.csv')"
   ]
  },
  {
   "cell_type": "code",
   "execution_count": 11,
   "metadata": {
    "scrolled": true
   },
   "outputs": [
    {
     "data": {
      "text/html": [
       "<div>\n",
       "<style scoped>\n",
       "    .dataframe tbody tr th:only-of-type {\n",
       "        vertical-align: middle;\n",
       "    }\n",
       "\n",
       "    .dataframe tbody tr th {\n",
       "        vertical-align: top;\n",
       "    }\n",
       "\n",
       "    .dataframe thead th {\n",
       "        text-align: right;\n",
       "    }\n",
       "</style>\n",
       "<table border=\"1\" class=\"dataframe\">\n",
       "  <thead>\n",
       "    <tr style=\"text-align: right;\">\n",
       "      <th></th>\n",
       "      <th>Cplx3</th>\n",
       "      <th>Tshz2</th>\n",
       "      <th>Npy</th>\n",
       "      <th>Myl4</th>\n",
       "      <th>Pbld1</th>\n",
       "      <th>Ptgs2</th>\n",
       "      <th>Dlk1</th>\n",
       "      <th>Gm13889</th>\n",
       "      <th>Cck</th>\n",
       "      <th>Lypd1</th>\n",
       "      <th>...</th>\n",
       "      <th>Gapdh</th>\n",
       "      <th>Gm40518</th>\n",
       "      <th>Rgs4</th>\n",
       "      <th>Sostdc1</th>\n",
       "      <th>Ier2</th>\n",
       "      <th>Timp2</th>\n",
       "      <th>Gm26772</th>\n",
       "      <th>Lpl</th>\n",
       "      <th>P2rx4</th>\n",
       "      <th>binary</th>\n",
       "    </tr>\n",
       "  </thead>\n",
       "  <tbody>\n",
       "    <tr>\n",
       "      <th>0</th>\n",
       "      <td>0.0</td>\n",
       "      <td>0.000000</td>\n",
       "      <td>0.000000</td>\n",
       "      <td>1.736971</td>\n",
       "      <td>0.0</td>\n",
       "      <td>0.0</td>\n",
       "      <td>0.0</td>\n",
       "      <td>0.0</td>\n",
       "      <td>0.000000</td>\n",
       "      <td>0.000000</td>\n",
       "      <td>...</td>\n",
       "      <td>3.764011</td>\n",
       "      <td>2.541624</td>\n",
       "      <td>2.981657</td>\n",
       "      <td>0.0</td>\n",
       "      <td>0.000000</td>\n",
       "      <td>1.736971</td>\n",
       "      <td>0.0</td>\n",
       "      <td>0.000000</td>\n",
       "      <td>1.736971</td>\n",
       "      <td>0</td>\n",
       "    </tr>\n",
       "    <tr>\n",
       "      <th>1</th>\n",
       "      <td>0.0</td>\n",
       "      <td>0.000000</td>\n",
       "      <td>0.000000</td>\n",
       "      <td>0.000000</td>\n",
       "      <td>0.0</td>\n",
       "      <td>0.0</td>\n",
       "      <td>0.0</td>\n",
       "      <td>0.0</td>\n",
       "      <td>0.000000</td>\n",
       "      <td>2.038546</td>\n",
       "      <td>...</td>\n",
       "      <td>5.011794</td>\n",
       "      <td>2.293131</td>\n",
       "      <td>2.293131</td>\n",
       "      <td>0.0</td>\n",
       "      <td>2.495878</td>\n",
       "      <td>1.696158</td>\n",
       "      <td>0.0</td>\n",
       "      <td>0.000000</td>\n",
       "      <td>0.000000</td>\n",
       "      <td>0</td>\n",
       "    </tr>\n",
       "    <tr>\n",
       "      <th>2</th>\n",
       "      <td>0.0</td>\n",
       "      <td>0.000000</td>\n",
       "      <td>3.035425</td>\n",
       "      <td>0.000000</td>\n",
       "      <td>0.0</td>\n",
       "      <td>0.0</td>\n",
       "      <td>0.0</td>\n",
       "      <td>0.0</td>\n",
       "      <td>5.236935</td>\n",
       "      <td>0.000000</td>\n",
       "      <td>...</td>\n",
       "      <td>3.311021</td>\n",
       "      <td>0.000000</td>\n",
       "      <td>1.163492</td>\n",
       "      <td>0.0</td>\n",
       "      <td>0.000000</td>\n",
       "      <td>3.035425</td>\n",
       "      <td>0.0</td>\n",
       "      <td>2.028579</td>\n",
       "      <td>0.000000</td>\n",
       "      <td>0</td>\n",
       "    </tr>\n",
       "    <tr>\n",
       "      <th>3</th>\n",
       "      <td>0.0</td>\n",
       "      <td>4.304573</td>\n",
       "      <td>1.577758</td>\n",
       "      <td>4.004004</td>\n",
       "      <td>0.0</td>\n",
       "      <td>0.0</td>\n",
       "      <td>0.0</td>\n",
       "      <td>0.0</td>\n",
       "      <td>0.000000</td>\n",
       "      <td>4.355191</td>\n",
       "      <td>...</td>\n",
       "      <td>4.135252</td>\n",
       "      <td>0.000000</td>\n",
       "      <td>3.006693</td>\n",
       "      <td>0.0</td>\n",
       "      <td>0.000000</td>\n",
       "      <td>0.000000</td>\n",
       "      <td>0.0</td>\n",
       "      <td>0.000000</td>\n",
       "      <td>0.000000</td>\n",
       "      <td>0</td>\n",
       "    </tr>\n",
       "    <tr>\n",
       "      <th>4</th>\n",
       "      <td>0.0</td>\n",
       "      <td>0.000000</td>\n",
       "      <td>0.000000</td>\n",
       "      <td>0.000000</td>\n",
       "      <td>0.0</td>\n",
       "      <td>0.0</td>\n",
       "      <td>0.0</td>\n",
       "      <td>0.0</td>\n",
       "      <td>0.000000</td>\n",
       "      <td>1.518209</td>\n",
       "      <td>...</td>\n",
       "      <td>4.928816</td>\n",
       "      <td>2.835458</td>\n",
       "      <td>2.293556</td>\n",
       "      <td>0.0</td>\n",
       "      <td>2.724985</td>\n",
       "      <td>2.293556</td>\n",
       "      <td>0.0</td>\n",
       "      <td>0.000000</td>\n",
       "      <td>0.000000</td>\n",
       "      <td>0</td>\n",
       "    </tr>\n",
       "  </tbody>\n",
       "</table>\n",
       "<p>5 rows × 101 columns</p>\n",
       "</div>"
      ],
      "text/plain": [
       "   Cplx3     Tshz2       Npy      Myl4  Pbld1  Ptgs2  Dlk1  Gm13889       Cck  \\\n",
       "0    0.0  0.000000  0.000000  1.736971    0.0    0.0   0.0      0.0  0.000000   \n",
       "1    0.0  0.000000  0.000000  0.000000    0.0    0.0   0.0      0.0  0.000000   \n",
       "2    0.0  0.000000  3.035425  0.000000    0.0    0.0   0.0      0.0  5.236935   \n",
       "3    0.0  4.304573  1.577758  4.004004    0.0    0.0   0.0      0.0  0.000000   \n",
       "4    0.0  0.000000  0.000000  0.000000    0.0    0.0   0.0      0.0  0.000000   \n",
       "\n",
       "      Lypd1  ...     Gapdh   Gm40518      Rgs4  Sostdc1      Ier2     Timp2  \\\n",
       "0  0.000000  ...  3.764011  2.541624  2.981657      0.0  0.000000  1.736971   \n",
       "1  2.038546  ...  5.011794  2.293131  2.293131      0.0  2.495878  1.696158   \n",
       "2  0.000000  ...  3.311021  0.000000  1.163492      0.0  0.000000  3.035425   \n",
       "3  4.355191  ...  4.135252  0.000000  3.006693      0.0  0.000000  0.000000   \n",
       "4  1.518209  ...  4.928816  2.835458  2.293556      0.0  2.724985  2.293556   \n",
       "\n",
       "   Gm26772       Lpl     P2rx4  binary  \n",
       "0      0.0  0.000000  1.736971       0  \n",
       "1      0.0  0.000000  0.000000       0  \n",
       "2      0.0  2.028579  0.000000       0  \n",
       "3      0.0  0.000000  0.000000       0  \n",
       "4      0.0  0.000000  0.000000       0  \n",
       "\n",
       "[5 rows x 101 columns]"
      ]
     },
     "execution_count": 11,
     "metadata": {},
     "output_type": "execute_result"
    }
   ],
   "source": [
    "df.head()"
   ]
  },
  {
   "cell_type": "code",
   "execution_count": 12,
   "metadata": {
    "scrolled": false
   },
   "outputs": [
    {
     "data": {
      "text/plain": [
       "0    7649\n",
       "1     561\n",
       "Name: binary, dtype: int64"
      ]
     },
     "execution_count": 12,
     "metadata": {},
     "output_type": "execute_result"
    }
   ],
   "source": [
    "df['binary'].value_counts()"
   ]
  },
  {
   "cell_type": "code",
   "execution_count": 13,
   "metadata": {
    "scrolled": true
   },
   "outputs": [
    {
     "data": {
      "text/html": [
       "<style type=\"text/css\">\n",
       "#T_51412_row8_col1 {\n",
       "  background-color: lightgreen;\n",
       "}\n",
       "</style>\n",
       "<table id=\"T_51412\">\n",
       "  <thead>\n",
       "    <tr>\n",
       "      <th class=\"blank level0\" >&nbsp;</th>\n",
       "      <th id=\"T_51412_level0_col0\" class=\"col_heading level0 col0\" >Description</th>\n",
       "      <th id=\"T_51412_level0_col1\" class=\"col_heading level0 col1\" >Value</th>\n",
       "    </tr>\n",
       "  </thead>\n",
       "  <tbody>\n",
       "    <tr>\n",
       "      <th id=\"T_51412_level0_row0\" class=\"row_heading level0 row0\" >0</th>\n",
       "      <td id=\"T_51412_row0_col0\" class=\"data row0 col0\" >Session id</td>\n",
       "      <td id=\"T_51412_row0_col1\" class=\"data row0 col1\" >1</td>\n",
       "    </tr>\n",
       "    <tr>\n",
       "      <th id=\"T_51412_level0_row1\" class=\"row_heading level0 row1\" >1</th>\n",
       "      <td id=\"T_51412_row1_col0\" class=\"data row1 col0\" >Target</td>\n",
       "      <td id=\"T_51412_row1_col1\" class=\"data row1 col1\" >binary</td>\n",
       "    </tr>\n",
       "    <tr>\n",
       "      <th id=\"T_51412_level0_row2\" class=\"row_heading level0 row2\" >2</th>\n",
       "      <td id=\"T_51412_row2_col0\" class=\"data row2 col0\" >Target type</td>\n",
       "      <td id=\"T_51412_row2_col1\" class=\"data row2 col1\" >Binary</td>\n",
       "    </tr>\n",
       "    <tr>\n",
       "      <th id=\"T_51412_level0_row3\" class=\"row_heading level0 row3\" >3</th>\n",
       "      <td id=\"T_51412_row3_col0\" class=\"data row3 col0\" >Original data shape</td>\n",
       "      <td id=\"T_51412_row3_col1\" class=\"data row3 col1\" >(8210, 101)</td>\n",
       "    </tr>\n",
       "    <tr>\n",
       "      <th id=\"T_51412_level0_row4\" class=\"row_heading level0 row4\" >4</th>\n",
       "      <td id=\"T_51412_row4_col0\" class=\"data row4 col0\" >Transformed data shape</td>\n",
       "      <td id=\"T_51412_row4_col1\" class=\"data row4 col1\" >(8210, 101)</td>\n",
       "    </tr>\n",
       "    <tr>\n",
       "      <th id=\"T_51412_level0_row5\" class=\"row_heading level0 row5\" >5</th>\n",
       "      <td id=\"T_51412_row5_col0\" class=\"data row5 col0\" >Transformed train set shape</td>\n",
       "      <td id=\"T_51412_row5_col1\" class=\"data row5 col1\" >(5747, 101)</td>\n",
       "    </tr>\n",
       "    <tr>\n",
       "      <th id=\"T_51412_level0_row6\" class=\"row_heading level0 row6\" >6</th>\n",
       "      <td id=\"T_51412_row6_col0\" class=\"data row6 col0\" >Transformed test set shape</td>\n",
       "      <td id=\"T_51412_row6_col1\" class=\"data row6 col1\" >(2463, 101)</td>\n",
       "    </tr>\n",
       "    <tr>\n",
       "      <th id=\"T_51412_level0_row7\" class=\"row_heading level0 row7\" >7</th>\n",
       "      <td id=\"T_51412_row7_col0\" class=\"data row7 col0\" >Numeric features</td>\n",
       "      <td id=\"T_51412_row7_col1\" class=\"data row7 col1\" >100</td>\n",
       "    </tr>\n",
       "    <tr>\n",
       "      <th id=\"T_51412_level0_row8\" class=\"row_heading level0 row8\" >8</th>\n",
       "      <td id=\"T_51412_row8_col0\" class=\"data row8 col0\" >Preprocess</td>\n",
       "      <td id=\"T_51412_row8_col1\" class=\"data row8 col1\" >True</td>\n",
       "    </tr>\n",
       "    <tr>\n",
       "      <th id=\"T_51412_level0_row9\" class=\"row_heading level0 row9\" >9</th>\n",
       "      <td id=\"T_51412_row9_col0\" class=\"data row9 col0\" >Imputation type</td>\n",
       "      <td id=\"T_51412_row9_col1\" class=\"data row9 col1\" >simple</td>\n",
       "    </tr>\n",
       "    <tr>\n",
       "      <th id=\"T_51412_level0_row10\" class=\"row_heading level0 row10\" >10</th>\n",
       "      <td id=\"T_51412_row10_col0\" class=\"data row10 col0\" >Numeric imputation</td>\n",
       "      <td id=\"T_51412_row10_col1\" class=\"data row10 col1\" >mean</td>\n",
       "    </tr>\n",
       "    <tr>\n",
       "      <th id=\"T_51412_level0_row11\" class=\"row_heading level0 row11\" >11</th>\n",
       "      <td id=\"T_51412_row11_col0\" class=\"data row11 col0\" >Categorical imputation</td>\n",
       "      <td id=\"T_51412_row11_col1\" class=\"data row11 col1\" >mode</td>\n",
       "    </tr>\n",
       "    <tr>\n",
       "      <th id=\"T_51412_level0_row12\" class=\"row_heading level0 row12\" >12</th>\n",
       "      <td id=\"T_51412_row12_col0\" class=\"data row12 col0\" >Fold Generator</td>\n",
       "      <td id=\"T_51412_row12_col1\" class=\"data row12 col1\" >StratifiedKFold</td>\n",
       "    </tr>\n",
       "    <tr>\n",
       "      <th id=\"T_51412_level0_row13\" class=\"row_heading level0 row13\" >13</th>\n",
       "      <td id=\"T_51412_row13_col0\" class=\"data row13 col0\" >Fold Number</td>\n",
       "      <td id=\"T_51412_row13_col1\" class=\"data row13 col1\" >10</td>\n",
       "    </tr>\n",
       "    <tr>\n",
       "      <th id=\"T_51412_level0_row14\" class=\"row_heading level0 row14\" >14</th>\n",
       "      <td id=\"T_51412_row14_col0\" class=\"data row14 col0\" >CPU Jobs</td>\n",
       "      <td id=\"T_51412_row14_col1\" class=\"data row14 col1\" >4</td>\n",
       "    </tr>\n",
       "    <tr>\n",
       "      <th id=\"T_51412_level0_row15\" class=\"row_heading level0 row15\" >15</th>\n",
       "      <td id=\"T_51412_row15_col0\" class=\"data row15 col0\" >Use GPU</td>\n",
       "      <td id=\"T_51412_row15_col1\" class=\"data row15 col1\" >False</td>\n",
       "    </tr>\n",
       "    <tr>\n",
       "      <th id=\"T_51412_level0_row16\" class=\"row_heading level0 row16\" >16</th>\n",
       "      <td id=\"T_51412_row16_col0\" class=\"data row16 col0\" >Log Experiment</td>\n",
       "      <td id=\"T_51412_row16_col1\" class=\"data row16 col1\" >False</td>\n",
       "    </tr>\n",
       "    <tr>\n",
       "      <th id=\"T_51412_level0_row17\" class=\"row_heading level0 row17\" >17</th>\n",
       "      <td id=\"T_51412_row17_col0\" class=\"data row17 col0\" >Experiment Name</td>\n",
       "      <td id=\"T_51412_row17_col1\" class=\"data row17 col1\" >clf-default-name</td>\n",
       "    </tr>\n",
       "    <tr>\n",
       "      <th id=\"T_51412_level0_row18\" class=\"row_heading level0 row18\" >18</th>\n",
       "      <td id=\"T_51412_row18_col0\" class=\"data row18 col0\" >USI</td>\n",
       "      <td id=\"T_51412_row18_col1\" class=\"data row18 col1\" >fcfe</td>\n",
       "    </tr>\n",
       "  </tbody>\n",
       "</table>\n"
      ],
      "text/plain": [
       "<pandas.io.formats.style.Styler at 0x28ab92490>"
      ]
     },
     "metadata": {},
     "output_type": "display_data"
    }
   ],
   "source": [
    "exp1 = setup(df, target = 'binary',session_id=1,index=False,n_jobs=4)"
   ]
  },
  {
   "cell_type": "code",
   "execution_count": 14,
   "metadata": {},
   "outputs": [
    {
     "data": {
      "text/html": [],
      "text/plain": [
       "<IPython.core.display.HTML object>"
      ]
     },
     "metadata": {},
     "output_type": "display_data"
    },
    {
     "data": {
      "text/html": [
       "<style type=\"text/css\">\n",
       "#T_66e4a_row10_col0, #T_66e4a_row10_col1, #T_66e4a_row10_col2, #T_66e4a_row10_col3, #T_66e4a_row10_col4, #T_66e4a_row10_col5, #T_66e4a_row10_col6 {\n",
       "  background: yellow;\n",
       "}\n",
       "</style>\n",
       "<table id=\"T_66e4a\">\n",
       "  <thead>\n",
       "    <tr>\n",
       "      <th class=\"blank level0\" >&nbsp;</th>\n",
       "      <th id=\"T_66e4a_level0_col0\" class=\"col_heading level0 col0\" >Accuracy</th>\n",
       "      <th id=\"T_66e4a_level0_col1\" class=\"col_heading level0 col1\" >AUC</th>\n",
       "      <th id=\"T_66e4a_level0_col2\" class=\"col_heading level0 col2\" >Recall</th>\n",
       "      <th id=\"T_66e4a_level0_col3\" class=\"col_heading level0 col3\" >Prec.</th>\n",
       "      <th id=\"T_66e4a_level0_col4\" class=\"col_heading level0 col4\" >F1</th>\n",
       "      <th id=\"T_66e4a_level0_col5\" class=\"col_heading level0 col5\" >Kappa</th>\n",
       "      <th id=\"T_66e4a_level0_col6\" class=\"col_heading level0 col6\" >MCC</th>\n",
       "    </tr>\n",
       "    <tr>\n",
       "      <th class=\"index_name level0\" >Fold</th>\n",
       "      <th class=\"blank col0\" >&nbsp;</th>\n",
       "      <th class=\"blank col1\" >&nbsp;</th>\n",
       "      <th class=\"blank col2\" >&nbsp;</th>\n",
       "      <th class=\"blank col3\" >&nbsp;</th>\n",
       "      <th class=\"blank col4\" >&nbsp;</th>\n",
       "      <th class=\"blank col5\" >&nbsp;</th>\n",
       "      <th class=\"blank col6\" >&nbsp;</th>\n",
       "    </tr>\n",
       "  </thead>\n",
       "  <tbody>\n",
       "    <tr>\n",
       "      <th id=\"T_66e4a_level0_row0\" class=\"row_heading level0 row0\" >0</th>\n",
       "      <td id=\"T_66e4a_row0_col0\" class=\"data row0 col0\" >0.4974</td>\n",
       "      <td id=\"T_66e4a_row0_col1\" class=\"data row0 col1\" >0.7304</td>\n",
       "      <td id=\"T_66e4a_row0_col2\" class=\"data row0 col2\" >0.8974</td>\n",
       "      <td id=\"T_66e4a_row0_col3\" class=\"data row0 col3\" >0.1094</td>\n",
       "      <td id=\"T_66e4a_row0_col4\" class=\"data row0 col4\" >0.1950</td>\n",
       "      <td id=\"T_66e4a_row0_col5\" class=\"data row0 col5\" >0.0843</td>\n",
       "      <td id=\"T_66e4a_row0_col6\" class=\"data row0 col6\" >0.1851</td>\n",
       "    </tr>\n",
       "    <tr>\n",
       "      <th id=\"T_66e4a_level0_row1\" class=\"row_heading level0 row1\" >1</th>\n",
       "      <td id=\"T_66e4a_row1_col0\" class=\"data row1 col0\" >0.4904</td>\n",
       "      <td id=\"T_66e4a_row1_col1\" class=\"data row1 col1\" >0.6689</td>\n",
       "      <td id=\"T_66e4a_row1_col2\" class=\"data row1 col2\" >0.8205</td>\n",
       "      <td id=\"T_66e4a_row1_col3\" class=\"data row1 col3\" >0.1006</td>\n",
       "      <td id=\"T_66e4a_row1_col4\" class=\"data row1 col4\" >0.1793</td>\n",
       "      <td id=\"T_66e4a_row1_col5\" class=\"data row1 col5\" >0.0665</td>\n",
       "      <td id=\"T_66e4a_row1_col6\" class=\"data row1 col6\" >0.1451</td>\n",
       "    </tr>\n",
       "    <tr>\n",
       "      <th id=\"T_66e4a_level0_row2\" class=\"row_heading level0 row2\" >2</th>\n",
       "      <td id=\"T_66e4a_row2_col0\" class=\"data row2 col0\" >0.4835</td>\n",
       "      <td id=\"T_66e4a_row2_col1\" class=\"data row2 col1\" >0.6527</td>\n",
       "      <td id=\"T_66e4a_row2_col2\" class=\"data row2 col2\" >0.7692</td>\n",
       "      <td id=\"T_66e4a_row2_col3\" class=\"data row2 col3\" >0.0943</td>\n",
       "      <td id=\"T_66e4a_row2_col4\" class=\"data row2 col4\" >0.1681</td>\n",
       "      <td id=\"T_66e4a_row2_col5\" class=\"data row2 col5\" >0.0537</td>\n",
       "      <td id=\"T_66e4a_row2_col6\" class=\"data row2 col6\" >0.1173</td>\n",
       "    </tr>\n",
       "    <tr>\n",
       "      <th id=\"T_66e4a_level0_row3\" class=\"row_heading level0 row3\" >3</th>\n",
       "      <td id=\"T_66e4a_row3_col0\" class=\"data row3 col0\" >0.5061</td>\n",
       "      <td id=\"T_66e4a_row3_col1\" class=\"data row3 col1\" >0.7348</td>\n",
       "      <td id=\"T_66e4a_row3_col2\" class=\"data row3 col2\" >0.8462</td>\n",
       "      <td id=\"T_66e4a_row3_col3\" class=\"data row3 col3\" >0.1061</td>\n",
       "      <td id=\"T_66e4a_row3_col4\" class=\"data row3 col4\" >0.1886</td>\n",
       "      <td id=\"T_66e4a_row3_col5\" class=\"data row3 col5\" >0.0774</td>\n",
       "      <td id=\"T_66e4a_row3_col6\" class=\"data row3 col6\" >0.1652</td>\n",
       "    </tr>\n",
       "    <tr>\n",
       "      <th id=\"T_66e4a_level0_row4\" class=\"row_heading level0 row4\" >4</th>\n",
       "      <td id=\"T_66e4a_row4_col0\" class=\"data row4 col0\" >0.5200</td>\n",
       "      <td id=\"T_66e4a_row4_col1\" class=\"data row4 col1\" >0.7633</td>\n",
       "      <td id=\"T_66e4a_row4_col2\" class=\"data row4 col2\" >0.9000</td>\n",
       "      <td id=\"T_66e4a_row4_col3\" class=\"data row4 col3\" >0.1169</td>\n",
       "      <td id=\"T_66e4a_row4_col4\" class=\"data row4 col4\" >0.2069</td>\n",
       "      <td id=\"T_66e4a_row4_col5\" class=\"data row4 col5\" >0.0955</td>\n",
       "      <td id=\"T_66e4a_row4_col6\" class=\"data row4 col6\" >0.1998</td>\n",
       "    </tr>\n",
       "    <tr>\n",
       "      <th id=\"T_66e4a_level0_row5\" class=\"row_heading level0 row5\" >5</th>\n",
       "      <td id=\"T_66e4a_row5_col0\" class=\"data row5 col0\" >0.4991</td>\n",
       "      <td id=\"T_66e4a_row5_col1\" class=\"data row5 col1\" >0.7214</td>\n",
       "      <td id=\"T_66e4a_row5_col2\" class=\"data row5 col2\" >0.8250</td>\n",
       "      <td id=\"T_66e4a_row5_col3\" class=\"data row5 col3\" >0.1051</td>\n",
       "      <td id=\"T_66e4a_row5_col4\" class=\"data row5 col4\" >0.1864</td>\n",
       "      <td id=\"T_66e4a_row5_col5\" class=\"data row5 col5\" >0.0719</td>\n",
       "      <td id=\"T_66e4a_row5_col6\" class=\"data row5 col6\" >0.1532</td>\n",
       "    </tr>\n",
       "    <tr>\n",
       "      <th id=\"T_66e4a_level0_row6\" class=\"row_heading level0 row6\" >6</th>\n",
       "      <td id=\"T_66e4a_row6_col0\" class=\"data row6 col0\" >0.5009</td>\n",
       "      <td id=\"T_66e4a_row6_col1\" class=\"data row6 col1\" >0.7338</td>\n",
       "      <td id=\"T_66e4a_row6_col2\" class=\"data row6 col2\" >0.9250</td>\n",
       "      <td id=\"T_66e4a_row6_col3\" class=\"data row6 col3\" >0.1153</td>\n",
       "      <td id=\"T_66e4a_row6_col4\" class=\"data row6 col4\" >0.2050</td>\n",
       "      <td id=\"T_66e4a_row6_col5\" class=\"data row6 col5\" >0.0927</td>\n",
       "      <td id=\"T_66e4a_row6_col6\" class=\"data row6 col6\" >0.2019</td>\n",
       "    </tr>\n",
       "    <tr>\n",
       "      <th id=\"T_66e4a_level0_row7\" class=\"row_heading level0 row7\" >7</th>\n",
       "      <td id=\"T_66e4a_row7_col0\" class=\"data row7 col0\" >0.4878</td>\n",
       "      <td id=\"T_66e4a_row7_col1\" class=\"data row7 col1\" >0.7471</td>\n",
       "      <td id=\"T_66e4a_row7_col2\" class=\"data row7 col2\" >0.8718</td>\n",
       "      <td id=\"T_66e4a_row7_col3\" class=\"data row7 col3\" >0.1053</td>\n",
       "      <td id=\"T_66e4a_row7_col4\" class=\"data row7 col4\" >0.1878</td>\n",
       "      <td id=\"T_66e4a_row7_col5\" class=\"data row7 col5\" >0.0758</td>\n",
       "      <td id=\"T_66e4a_row7_col6\" class=\"data row7 col6\" >0.1682</td>\n",
       "    </tr>\n",
       "    <tr>\n",
       "      <th id=\"T_66e4a_level0_row8\" class=\"row_heading level0 row8\" >8</th>\n",
       "      <td id=\"T_66e4a_row8_col0\" class=\"data row8 col0\" >0.4861</td>\n",
       "      <td id=\"T_66e4a_row8_col1\" class=\"data row8 col1\" >0.7277</td>\n",
       "      <td id=\"T_66e4a_row8_col2\" class=\"data row8 col2\" >0.8974</td>\n",
       "      <td id=\"T_66e4a_row8_col3\" class=\"data row8 col3\" >0.1074</td>\n",
       "      <td id=\"T_66e4a_row8_col4\" class=\"data row8 col4\" >0.1918</td>\n",
       "      <td id=\"T_66e4a_row8_col5\" class=\"data row8 col5\" >0.0801</td>\n",
       "      <td id=\"T_66e4a_row8_col6\" class=\"data row8 col6\" >0.1796</td>\n",
       "    </tr>\n",
       "    <tr>\n",
       "      <th id=\"T_66e4a_level0_row9\" class=\"row_heading level0 row9\" >9</th>\n",
       "      <td id=\"T_66e4a_row9_col0\" class=\"data row9 col0\" >0.5105</td>\n",
       "      <td id=\"T_66e4a_row9_col1\" class=\"data row9 col1\" >0.7627</td>\n",
       "      <td id=\"T_66e4a_row9_col2\" class=\"data row9 col2\" >0.8718</td>\n",
       "      <td id=\"T_66e4a_row9_col3\" class=\"data row9 col3\" >0.1097</td>\n",
       "      <td id=\"T_66e4a_row9_col4\" class=\"data row9 col4\" >0.1948</td>\n",
       "      <td id=\"T_66e4a_row9_col5\" class=\"data row9 col5\" >0.0843</td>\n",
       "      <td id=\"T_66e4a_row9_col6\" class=\"data row9 col6\" >0.1797</td>\n",
       "    </tr>\n",
       "    <tr>\n",
       "      <th id=\"T_66e4a_level0_row10\" class=\"row_heading level0 row10\" >Mean</th>\n",
       "      <td id=\"T_66e4a_row10_col0\" class=\"data row10 col0\" >0.4982</td>\n",
       "      <td id=\"T_66e4a_row10_col1\" class=\"data row10 col1\" >0.7243</td>\n",
       "      <td id=\"T_66e4a_row10_col2\" class=\"data row10 col2\" >0.8624</td>\n",
       "      <td id=\"T_66e4a_row10_col3\" class=\"data row10 col3\" >0.1070</td>\n",
       "      <td id=\"T_66e4a_row10_col4\" class=\"data row10 col4\" >0.1904</td>\n",
       "      <td id=\"T_66e4a_row10_col5\" class=\"data row10 col5\" >0.0782</td>\n",
       "      <td id=\"T_66e4a_row10_col6\" class=\"data row10 col6\" >0.1695</td>\n",
       "    </tr>\n",
       "    <tr>\n",
       "      <th id=\"T_66e4a_level0_row11\" class=\"row_heading level0 row11\" >Std</th>\n",
       "      <td id=\"T_66e4a_row11_col0\" class=\"data row11 col0\" >0.0111</td>\n",
       "      <td id=\"T_66e4a_row11_col1\" class=\"data row11 col1\" >0.0346</td>\n",
       "      <td id=\"T_66e4a_row11_col2\" class=\"data row11 col2\" >0.0448</td>\n",
       "      <td id=\"T_66e4a_row11_col3\" class=\"data row11 col3\" >0.0062</td>\n",
       "      <td id=\"T_66e4a_row11_col4\" class=\"data row11 col4\" >0.0108</td>\n",
       "      <td id=\"T_66e4a_row11_col5\" class=\"data row11 col5\" >0.0117</td>\n",
       "      <td id=\"T_66e4a_row11_col6\" class=\"data row11 col6\" >0.0245</td>\n",
       "    </tr>\n",
       "  </tbody>\n",
       "</table>\n"
      ],
      "text/plain": [
       "<pandas.io.formats.style.Styler at 0x28b30c2e0>"
      ]
     },
     "metadata": {},
     "output_type": "display_data"
    },
    {
     "data": {
      "text/html": [],
      "text/plain": [
       "<IPython.core.display.HTML object>"
      ]
     },
     "metadata": {},
     "output_type": "display_data"
    }
   ],
   "source": [
    "nb = create_model('nb')"
   ]
  },
  {
   "cell_type": "code",
   "execution_count": 36,
   "metadata": {},
   "outputs": [
    {
     "name": "stderr",
     "output_type": "stream",
     "text": [
      "Using 1500 background data samples could cause slower run times. Consider using shap.sample(data, K) or shap.kmeans(data, K) to summarize the background as K samples.\n"
     ]
    }
   ],
   "source": [
    "Xtest = get_config('X_test')\n",
    "ytest = get_config('y_test')\n",
    "X_train = get_config('X_train')\n",
    "y_train = get_config('y_train')\n",
    "sample_size=1500\n",
    "sub_sampled_train_data = shap.sample(X_train, sample_size, random_state=0)\n",
    "sub_sampled_test_data = shap.sample(Xtest, sample_size, random_state=0)\n",
    "explainer = shap.KernelExplainer(nb.predict, sub_sampled_train_data)## nb,predict_proba generates barplot"
   ]
  },
  {
   "cell_type": "code",
   "execution_count": 28,
   "metadata": {},
   "outputs": [
    {
     "data": {
      "application/vnd.jupyter.widget-view+json": {
       "model_id": "c27e10f79ce649fbbe6c596a2880bd58",
       "version_major": 2,
       "version_minor": 0
      },
      "text/plain": [
       "  0%|          | 0/100 [00:00<?, ?it/s]"
      ]
     },
     "metadata": {},
     "output_type": "display_data"
    }
   ],
   "source": [
    "shap_values = explainer.shap_values(sub_sampled_test_data)"
   ]
  },
  {
   "cell_type": "code",
   "execution_count": 12,
   "metadata": {},
   "outputs": [],
   "source": [
    "np.save(\"md_shap_values_allcells.npy\", shap_values)\n",
    "#pd.DataFrame(shap_values).to_csv(\"lh_shap_values_500cells.csv\")"
   ]
  },
  {
   "cell_type": "code",
   "execution_count": 34,
   "metadata": {},
   "outputs": [],
   "source": [
    "shap_values = np.load(\"../results/fig6_md_shap_values_1500cells.npy\")\n"
   ]
  },
  {
   "cell_type": "code",
   "execution_count": 37,
   "metadata": {},
   "outputs": [
    {
     "data": {
      "image/png": "[encoded data removed]",
      "text/plain": [
       "<Figure size 800x550 with 2 Axes>"
      ]
     },
     "metadata": {},
     "output_type": "display_data"
    }
   ],
   "source": [
    "shap.summary_plot(shap_values, sub_sampled_test_data,show=False, max_display=10)\n",
    "#plt.savefig(\"MD var shap plot nb .pdf\",dpi=1000)"
   ]
  },
  {
   "cell_type": "code",
   "execution_count": 30,
   "metadata": {},
   "outputs": [
    {
     "data": {
      "text/plain": [
       "array([[ 0.00201556,  0.01011577,  0.00663179, ...,  0.        ,\n",
       "        -0.0880685 ,  0.00467625],\n",
       "       [ 0.01985866,  0.06619694,  0.02574062, ...,  0.00605513,\n",
       "         0.0198117 ,  0.00073607],\n",
       "       [ 0.02321017,  0.06703187,  0.02716427, ...,  0.0079114 ,\n",
       "         0.02215542,  0.        ],\n",
       "       ...,\n",
       "       [ 0.        ,  0.03397659,  0.01105827, ...,  0.00613375,\n",
       "         0.00446508,  0.00398956],\n",
       "       [ 0.01695204,  0.06717311,  0.03276092, ...,  0.00688844,\n",
       "         0.02630533,  0.        ],\n",
       "       [ 0.01717507,  0.06752798,  0.02468552, ...,  0.00537243,\n",
       "         0.02134609,  0.00055705]])"
      ]
     },
     "execution_count": 30,
     "metadata": {},
     "output_type": "execute_result"
    }
   ],
   "source": [
    "shap_values"
   ]
  },
  {
   "cell_type": "code",
   "execution_count": 31,
   "metadata": {},
   "outputs": [
    {
     "ename": "AssertionError",
     "evalue": "You must pass an Explanation object, Cohorts object, or dictionary to bar plot!",
     "output_type": "error",
     "traceback": [
      "\u001b[0;31m---------------------------------------------------------------------------\u001b[0m",
      "\u001b[0;31mAssertionError\u001b[0m                            Traceback (most recent call last)",
      "Cell \u001b[0;32mIn[31], line 1\u001b[0m\n\u001b[0;32m----> 1\u001b[0m shap\u001b[39m.\u001b[39;49mplots\u001b[39m.\u001b[39;49mbar(shap_values)\n",
      "File \u001b[0;32m~/mambaforge/envs/shap/lib/python3.8/site-packages/shap/plots/_bar.py:51\u001b[0m, in \u001b[0;36mbar\u001b[0;34m(shap_values, max_display, order, clustering, clustering_cutoff, merge_cohorts, show_data, show)\u001b[0m\n\u001b[1;32m     49\u001b[0m     cohorts \u001b[39m=\u001b[39m shap_values\u001b[39m.\u001b[39mcohorts\n\u001b[1;32m     50\u001b[0m \u001b[39melse\u001b[39;00m:\n\u001b[0;32m---> 51\u001b[0m     \u001b[39massert\u001b[39;00m \u001b[39misinstance\u001b[39m(shap_values, \u001b[39mdict\u001b[39m), \u001b[39m\"\u001b[39m\u001b[39mYou must pass an Explanation object, Cohorts object, or dictionary to bar plot!\u001b[39m\u001b[39m\"\u001b[39m\n\u001b[1;32m     53\u001b[0m \u001b[39m# unpack our list of Explanation objects we need to plot\u001b[39;00m\n\u001b[1;32m     54\u001b[0m cohort_labels \u001b[39m=\u001b[39m \u001b[39mlist\u001b[39m(cohorts\u001b[39m.\u001b[39mkeys())\n",
      "\u001b[0;31mAssertionError\u001b[0m: You must pass an Explanation object, Cohorts object, or dictionary to bar plot!"
     ]
    }
   ],
   "source": [
    "shap.plots.bar(shap_values)\n"
   ]
  },
  {
   "cell_type": "code",
   "execution_count": 14,
   "metadata": {},
   "outputs": [
    {
     "name": "stdout",
     "output_type": "stream",
     "text": [
      "Transformation Pipeline and Model Successfully Saved\n"
     ]
    },
    {
     "data": {
      "text/plain": [
       "(Pipeline(memory=None,\n",
       "          steps=[('dtypes',\n",
       "                  DataTypes_Auto_infer(categorical_features=[],\n",
       "                                       display_types=False, features_todrop=[],\n",
       "                                       id_columns=[],\n",
       "                                       ml_usecase='classification',\n",
       "                                       numerical_features=[], target='binary',\n",
       "                                       time_features=[])),\n",
       "                 ('imputer',\n",
       "                  Simple_Imputer(categorical_strategy='not_available',\n",
       "                                 fill_value_categorical=None,\n",
       "                                 fill_value_numerical=None,\n",
       "                                 numeric_stra...\n",
       "                 ('binn', 'passthrough'), ('rem_outliers', 'passthrough'),\n",
       "                 ('cluster_all', 'passthrough'),\n",
       "                 ('dummy', Dummify(target='binary')),\n",
       "                 ('fix_perfect', Remove_100(target='binary')),\n",
       "                 ('clean_names', Clean_Colum_Names()),\n",
       "                 ('feature_select', 'passthrough'), ('fix_multi', 'passthrough'),\n",
       "                 ('dfs', 'passthrough'), ('pca', 'passthrough'),\n",
       "                 ['trained_model',\n",
       "                  GaussianNB(priors=None, var_smoothing=1e-09)]],\n",
       "          verbose=False),\n",
       " 'model_MD_20220921.pkl')"
      ]
     },
     "execution_count": 14,
     "metadata": {},
     "output_type": "execute_result"
    }
   ],
   "source": [
    "save_model(nb, model_name='model_MD_20220921')"
   ]
  },
  {
   "cell_type": "code",
   "execution_count": null,
   "metadata": {},
   "outputs": [],
   "source": []
  },
  {
   "cell_type": "code",
   "execution_count": null,
   "metadata": {},
   "outputs": [],
   "source": []
  },
  {
   "cell_type": "code",
   "execution_count": null,
   "metadata": {},
   "outputs": [],
   "source": []
  }
 ],
 "metadata": {
  "kernelspec": {
   "display_name": "Python (mamba-shap)",
   "language": "python",
   "name": "shap"
  },
  "language_info": {
   "codemirror_mode": {
    "name": "ipython",
    "version": 3
   },
   "file_extension": ".py",
   "mimetype": "text/x-python",
   "name": "python",
   "nbconvert_exporter": "python",
   "pygments_lexer": "ipython3",
   "version": "3.8.16"
  },
  "toc": {
   "base_numbering": 1,
   "nav_menu": {},
   "number_sections": true,
   "sideBar": true,
   "skip_h1_title": false,
   "title_cell": "Table of Contents",
   "title_sidebar": "Contents",
   "toc_cell": false,
   "toc_position": {},
   "toc_section_display": true,
   "toc_window_display": false
  },
  "varInspector": {
   "cols": {
    "lenName": 16,
    "lenType": 16,
    "lenVar": 40
   },
   "kernels_config": {
    "python": {
     "delete_cmd_postfix": "",
     "delete_cmd_prefix": "del ",
     "library": "var_list.py",
     "varRefreshCmd": "print(var_dic_list())"
    },
    "r": {
     "delete_cmd_postfix": ") ",
     "delete_cmd_prefix": "rm(",
     "library": "var_list.r",
     "varRefreshCmd": "cat(var_dic_list()) "
    }
   },
   "types_to_exclude": [
    "module",
    "function",
    "builtin_function_or_method",
    "instance",
    "_Feature"
   ],
   "window_display": false
  }
 },
 "nbformat": 4,
 "nbformat_minor": 2
}

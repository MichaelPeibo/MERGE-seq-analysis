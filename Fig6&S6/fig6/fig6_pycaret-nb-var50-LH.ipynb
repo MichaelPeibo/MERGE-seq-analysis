{
 "cells": [
  {
   "cell_type": "code",
   "execution_count": 1,
   "metadata": {
    "scrolled": false
   },
   "outputs": [
    {
     "data": {
      "text/plain": [
       "'/Users/peiboxu/Desktop/merge-seq analysis/elife_revision/code_file'"
      ]
     },
     "execution_count": 1,
     "metadata": {},
     "output_type": "execute_result"
    }
   ],
   "source": [
    "%pwd"
   ]
  },
  {
   "cell_type": "code",
   "execution_count": 2,
   "metadata": {},
   "outputs": [
    {
     "name": "stderr",
     "output_type": "stream",
     "text": [
      "/Users/peiboxu/mambaforge/envs/shap/lib/python3.8/site-packages/shap/utils/_clustering.py:35: NumbaDeprecationWarning: The 'nopython' keyword argument was not supplied to the 'numba.jit' decorator. The implicit default value for this argument is currently False, but it will be changed to True in Numba 0.59.0. See https://numba.readthedocs.io/en/stable/reference/deprecation.html#deprecation-of-object-mode-fall-back-behaviour-when-using-jit for details.\n",
      "  def _pt_shuffle_rec(i, indexes, index_mask, partition_tree, M, pos):\n",
      "/Users/peiboxu/mambaforge/envs/shap/lib/python3.8/site-packages/shap/utils/_clustering.py:54: NumbaDeprecationWarning: The 'nopython' keyword argument was not supplied to the 'numba.jit' decorator. The implicit default value for this argument is currently False, but it will be changed to True in Numba 0.59.0. See https://numba.readthedocs.io/en/stable/reference/deprecation.html#deprecation-of-object-mode-fall-back-behaviour-when-using-jit for details.\n",
      "  def delta_minimization_order(all_masks, max_swap_size=100, num_passes=2):\n",
      "/Users/peiboxu/mambaforge/envs/shap/lib/python3.8/site-packages/shap/utils/_clustering.py:63: NumbaDeprecationWarning: The 'nopython' keyword argument was not supplied to the 'numba.jit' decorator. The implicit default value for this argument is currently False, but it will be changed to True in Numba 0.59.0. See https://numba.readthedocs.io/en/stable/reference/deprecation.html#deprecation-of-object-mode-fall-back-behaviour-when-using-jit for details.\n",
      "  def _reverse_window(order, start, length):\n",
      "/Users/peiboxu/mambaforge/envs/shap/lib/python3.8/site-packages/shap/utils/_clustering.py:69: NumbaDeprecationWarning: The 'nopython' keyword argument was not supplied to the 'numba.jit' decorator. The implicit default value for this argument is currently False, but it will be changed to True in Numba 0.59.0. See https://numba.readthedocs.io/en/stable/reference/deprecation.html#deprecation-of-object-mode-fall-back-behaviour-when-using-jit for details.\n",
      "  def _reverse_window_score_gain(masks, order, start, length):\n",
      "/Users/peiboxu/mambaforge/envs/shap/lib/python3.8/site-packages/shap/utils/_clustering.py:77: NumbaDeprecationWarning: The 'nopython' keyword argument was not supplied to the 'numba.jit' decorator. The implicit default value for this argument is currently False, but it will be changed to True in Numba 0.59.0. See https://numba.readthedocs.io/en/stable/reference/deprecation.html#deprecation-of-object-mode-fall-back-behaviour-when-using-jit for details.\n",
      "  def _mask_delta_score(m1, m2):\n",
      "/Users/peiboxu/mambaforge/envs/shap/lib/python3.8/site-packages/shap/links.py:5: NumbaDeprecationWarning: The 'nopython' keyword argument was not supplied to the 'numba.jit' decorator. The implicit default value for this argument is currently False, but it will be changed to True in Numba 0.59.0. See https://numba.readthedocs.io/en/stable/reference/deprecation.html#deprecation-of-object-mode-fall-back-behaviour-when-using-jit for details.\n",
      "  def identity(x):\n",
      "/Users/peiboxu/mambaforge/envs/shap/lib/python3.8/site-packages/shap/links.py:10: NumbaDeprecationWarning: The 'nopython' keyword argument was not supplied to the 'numba.jit' decorator. The implicit default value for this argument is currently False, but it will be changed to True in Numba 0.59.0. See https://numba.readthedocs.io/en/stable/reference/deprecation.html#deprecation-of-object-mode-fall-back-behaviour-when-using-jit for details.\n",
      "  def _identity_inverse(x):\n",
      "/Users/peiboxu/mambaforge/envs/shap/lib/python3.8/site-packages/shap/links.py:15: NumbaDeprecationWarning: The 'nopython' keyword argument was not supplied to the 'numba.jit' decorator. The implicit default value for this argument is currently False, but it will be changed to True in Numba 0.59.0. See https://numba.readthedocs.io/en/stable/reference/deprecation.html#deprecation-of-object-mode-fall-back-behaviour-when-using-jit for details.\n",
      "  def logit(x):\n",
      "/Users/peiboxu/mambaforge/envs/shap/lib/python3.8/site-packages/shap/links.py:20: NumbaDeprecationWarning: The 'nopython' keyword argument was not supplied to the 'numba.jit' decorator. The implicit default value for this argument is currently False, but it will be changed to True in Numba 0.59.0. See https://numba.readthedocs.io/en/stable/reference/deprecation.html#deprecation-of-object-mode-fall-back-behaviour-when-using-jit for details.\n",
      "  def _logit_inverse(x):\n",
      "/Users/peiboxu/mambaforge/envs/shap/lib/python3.8/site-packages/shap/utils/_masked_model.py:363: NumbaDeprecationWarning: The 'nopython' keyword argument was not supplied to the 'numba.jit' decorator. The implicit default value for this argument is currently False, but it will be changed to True in Numba 0.59.0. See https://numba.readthedocs.io/en/stable/reference/deprecation.html#deprecation-of-object-mode-fall-back-behaviour-when-using-jit for details.\n",
      "  def _build_fixed_single_output(averaged_outs, last_outs, outputs, batch_positions, varying_rows, num_varying_rows, link, linearizing_weights):\n",
      "/Users/peiboxu/mambaforge/envs/shap/lib/python3.8/site-packages/shap/utils/_masked_model.py:385: NumbaDeprecationWarning: The 'nopython' keyword argument was not supplied to the 'numba.jit' decorator. The implicit default value for this argument is currently False, but it will be changed to True in Numba 0.59.0. See https://numba.readthedocs.io/en/stable/reference/deprecation.html#deprecation-of-object-mode-fall-back-behaviour-when-using-jit for details.\n",
      "  def _build_fixed_multi_output(averaged_outs, last_outs, outputs, batch_positions, varying_rows, num_varying_rows, link, linearizing_weights):\n",
      "/Users/peiboxu/mambaforge/envs/shap/lib/python3.8/site-packages/shap/utils/_masked_model.py:428: NumbaDeprecationWarning: The 'nopython' keyword argument was not supplied to the 'numba.jit' decorator. The implicit default value for this argument is currently False, but it will be changed to True in Numba 0.59.0. See https://numba.readthedocs.io/en/stable/reference/deprecation.html#deprecation-of-object-mode-fall-back-behaviour-when-using-jit for details.\n",
      "  def _init_masks(cluster_matrix, M, indices_row_pos, indptr):\n",
      "/Users/peiboxu/mambaforge/envs/shap/lib/python3.8/site-packages/shap/utils/_masked_model.py:439: NumbaDeprecationWarning: The 'nopython' keyword argument was not supplied to the 'numba.jit' decorator. The implicit default value for this argument is currently False, but it will be changed to True in Numba 0.59.0. See https://numba.readthedocs.io/en/stable/reference/deprecation.html#deprecation-of-object-mode-fall-back-behaviour-when-using-jit for details.\n",
      "  def _rec_fill_masks(cluster_matrix, indices_row_pos, indptr, indices, M, ind):\n",
      "/Users/peiboxu/mambaforge/envs/shap/lib/python3.8/site-packages/shap/maskers/_tabular.py:186: NumbaDeprecationWarning: The 'nopython' keyword argument was not supplied to the 'numba.jit' decorator. The implicit default value for this argument is currently False, but it will be changed to True in Numba 0.59.0. See https://numba.readthedocs.io/en/stable/reference/deprecation.html#deprecation-of-object-mode-fall-back-behaviour-when-using-jit for details.\n",
      "  def _single_delta_mask(dind, masked_inputs, last_mask, data, x, noop_code):\n",
      "/Users/peiboxu/mambaforge/envs/shap/lib/python3.8/site-packages/shap/maskers/_tabular.py:197: NumbaDeprecationWarning: The 'nopython' keyword argument was not supplied to the 'numba.jit' decorator. The implicit default value for this argument is currently False, but it will be changed to True in Numba 0.59.0. See https://numba.readthedocs.io/en/stable/reference/deprecation.html#deprecation-of-object-mode-fall-back-behaviour-when-using-jit for details.\n",
      "  def _delta_masking(masks, x, curr_delta_inds, varying_rows_out,\n",
      "/Users/peiboxu/mambaforge/envs/shap/lib/python3.8/site-packages/shap/maskers/_image.py:175: NumbaDeprecationWarning: The 'nopython' keyword argument was not supplied to the 'numba.jit' decorator. The implicit default value for this argument is currently False, but it will be changed to True in Numba 0.59.0. See https://numba.readthedocs.io/en/stable/reference/deprecation.html#deprecation-of-object-mode-fall-back-behaviour-when-using-jit for details.\n",
      "  def _jit_build_partition_tree(xmin, xmax, ymin, ymax, zmin, zmax, total_ywidth, total_zwidth, M, clustering, q):\n",
      "/Users/peiboxu/mambaforge/envs/shap/lib/python3.8/site-packages/shap/explainers/_partition.py:676: NumbaDeprecationWarning: The 'nopython' keyword argument was not supplied to the 'numba.jit' decorator. The implicit default value for this argument is currently False, but it will be changed to True in Numba 0.59.0. See https://numba.readthedocs.io/en/stable/reference/deprecation.html#deprecation-of-object-mode-fall-back-behaviour-when-using-jit for details.\n",
      "  def lower_credit(i, value, M, values, clustering):\n",
      "The 'nopython' keyword argument was not supplied to the 'numba.jit' decorator. The implicit default value for this argument is currently False, but it will be changed to True in Numba 0.59.0. See https://numba.readthedocs.io/en/stable/reference/deprecation.html#deprecation-of-object-mode-fall-back-behaviour-when-using-jit for details.\n",
      "The 'nopython' keyword argument was not supplied to the 'numba.jit' decorator. The implicit default value for this argument is currently False, but it will be changed to True in Numba 0.59.0. See https://numba.readthedocs.io/en/stable/reference/deprecation.html#deprecation-of-object-mode-fall-back-behaviour-when-using-jit for details.\n"
     ]
    }
   ],
   "source": [
    "#Run the below code in your notebook to check the installed version\n",
    "import shap\n",
    "import matplotlib.pyplot as plt\n",
    "from pycaret.classification import *\n",
    "from sklearn.utils import shuffle\n",
    "import matplotlib.pyplot as plt\n",
    "import random\n",
    "plt.rcParams['pdf.fonttype'] = 'truetype'\n",
    "import numpy as np\n",
    "import pandas as pd"
   ]
  },
  {
   "cell_type": "code",
   "execution_count": 3,
   "metadata": {},
   "outputs": [],
   "source": [
    "df=pd.read_csv('../results/fig6_var50_LH_valid_binary_normdata_allcells.csv')"
   ]
  },
  {
   "cell_type": "code",
   "execution_count": 4,
   "metadata": {
    "scrolled": true
   },
   "outputs": [
    {
     "data": {
      "text/html": [
       "<div>\n",
       "<style scoped>\n",
       "    .dataframe tbody tr th:only-of-type {\n",
       "        vertical-align: middle;\n",
       "    }\n",
       "\n",
       "    .dataframe tbody tr th {\n",
       "        vertical-align: top;\n",
       "    }\n",
       "\n",
       "    .dataframe thead th {\n",
       "        text-align: right;\n",
       "    }\n",
       "</style>\n",
       "<table border=\"1\" class=\"dataframe\">\n",
       "  <thead>\n",
       "    <tr style=\"text-align: right;\">\n",
       "      <th></th>\n",
       "      <th>Cplx3</th>\n",
       "      <th>Tshz2</th>\n",
       "      <th>Npy</th>\n",
       "      <th>Myl4</th>\n",
       "      <th>Pbld1</th>\n",
       "      <th>Ptgs2</th>\n",
       "      <th>Dlk1</th>\n",
       "      <th>Gm13889</th>\n",
       "      <th>Cck</th>\n",
       "      <th>Lypd1</th>\n",
       "      <th>...</th>\n",
       "      <th>Rgs5</th>\n",
       "      <th>Cux2</th>\n",
       "      <th>Grp</th>\n",
       "      <th>Ctgf</th>\n",
       "      <th>Calb1</th>\n",
       "      <th>Ighm</th>\n",
       "      <th>Npas4</th>\n",
       "      <th>Sox4</th>\n",
       "      <th>Scg2</th>\n",
       "      <th>binary</th>\n",
       "    </tr>\n",
       "  </thead>\n",
       "  <tbody>\n",
       "    <tr>\n",
       "      <th>0</th>\n",
       "      <td>0.0</td>\n",
       "      <td>0.000000</td>\n",
       "      <td>0.000000</td>\n",
       "      <td>1.736971</td>\n",
       "      <td>0.0</td>\n",
       "      <td>0.0</td>\n",
       "      <td>0.0</td>\n",
       "      <td>0.0</td>\n",
       "      <td>0.000000</td>\n",
       "      <td>0.000000</td>\n",
       "      <td>...</td>\n",
       "      <td>0.0</td>\n",
       "      <td>0.0</td>\n",
       "      <td>0.000000</td>\n",
       "      <td>0.000000</td>\n",
       "      <td>0.000000</td>\n",
       "      <td>0.0</td>\n",
       "      <td>0.000000</td>\n",
       "      <td>1.205988</td>\n",
       "      <td>2.081960</td>\n",
       "      <td>0</td>\n",
       "    </tr>\n",
       "    <tr>\n",
       "      <th>1</th>\n",
       "      <td>0.0</td>\n",
       "      <td>0.000000</td>\n",
       "      <td>0.000000</td>\n",
       "      <td>0.000000</td>\n",
       "      <td>0.0</td>\n",
       "      <td>0.0</td>\n",
       "      <td>0.0</td>\n",
       "      <td>0.0</td>\n",
       "      <td>0.000000</td>\n",
       "      <td>2.038546</td>\n",
       "      <td>...</td>\n",
       "      <td>0.0</td>\n",
       "      <td>0.0</td>\n",
       "      <td>0.000000</td>\n",
       "      <td>1.696158</td>\n",
       "      <td>0.000000</td>\n",
       "      <td>0.0</td>\n",
       "      <td>1.696158</td>\n",
       "      <td>0.000000</td>\n",
       "      <td>0.000000</td>\n",
       "      <td>0</td>\n",
       "    </tr>\n",
       "    <tr>\n",
       "      <th>2</th>\n",
       "      <td>0.0</td>\n",
       "      <td>0.000000</td>\n",
       "      <td>3.035425</td>\n",
       "      <td>0.000000</td>\n",
       "      <td>0.0</td>\n",
       "      <td>0.0</td>\n",
       "      <td>0.0</td>\n",
       "      <td>0.0</td>\n",
       "      <td>5.236935</td>\n",
       "      <td>0.000000</td>\n",
       "      <td>...</td>\n",
       "      <td>0.0</td>\n",
       "      <td>0.0</td>\n",
       "      <td>1.163492</td>\n",
       "      <td>0.000000</td>\n",
       "      <td>1.163492</td>\n",
       "      <td>0.0</td>\n",
       "      <td>1.163492</td>\n",
       "      <td>0.000000</td>\n",
       "      <td>0.000000</td>\n",
       "      <td>0</td>\n",
       "    </tr>\n",
       "    <tr>\n",
       "      <th>3</th>\n",
       "      <td>0.0</td>\n",
       "      <td>4.304573</td>\n",
       "      <td>1.577758</td>\n",
       "      <td>4.004004</td>\n",
       "      <td>0.0</td>\n",
       "      <td>0.0</td>\n",
       "      <td>0.0</td>\n",
       "      <td>0.0</td>\n",
       "      <td>0.000000</td>\n",
       "      <td>4.355191</td>\n",
       "      <td>...</td>\n",
       "      <td>0.0</td>\n",
       "      <td>0.0</td>\n",
       "      <td>1.577758</td>\n",
       "      <td>0.000000</td>\n",
       "      <td>0.000000</td>\n",
       "      <td>0.0</td>\n",
       "      <td>0.000000</td>\n",
       "      <td>1.577758</td>\n",
       "      <td>2.528305</td>\n",
       "      <td>0</td>\n",
       "    </tr>\n",
       "    <tr>\n",
       "      <th>4</th>\n",
       "      <td>0.0</td>\n",
       "      <td>0.000000</td>\n",
       "      <td>0.000000</td>\n",
       "      <td>0.000000</td>\n",
       "      <td>0.0</td>\n",
       "      <td>0.0</td>\n",
       "      <td>0.0</td>\n",
       "      <td>0.0</td>\n",
       "      <td>0.000000</td>\n",
       "      <td>1.518209</td>\n",
       "      <td>...</td>\n",
       "      <td>0.0</td>\n",
       "      <td>0.0</td>\n",
       "      <td>0.000000</td>\n",
       "      <td>1.023178</td>\n",
       "      <td>0.000000</td>\n",
       "      <td>0.0</td>\n",
       "      <td>2.934932</td>\n",
       "      <td>0.000000</td>\n",
       "      <td>1.023178</td>\n",
       "      <td>0</td>\n",
       "    </tr>\n",
       "  </tbody>\n",
       "</table>\n",
       "<p>5 rows × 51 columns</p>\n",
       "</div>"
      ],
      "text/plain": [
       "   Cplx3     Tshz2       Npy      Myl4  Pbld1  Ptgs2  Dlk1  Gm13889       Cck  \\\n",
       "0    0.0  0.000000  0.000000  1.736971    0.0    0.0   0.0      0.0  0.000000   \n",
       "1    0.0  0.000000  0.000000  0.000000    0.0    0.0   0.0      0.0  0.000000   \n",
       "2    0.0  0.000000  3.035425  0.000000    0.0    0.0   0.0      0.0  5.236935   \n",
       "3    0.0  4.304573  1.577758  4.004004    0.0    0.0   0.0      0.0  0.000000   \n",
       "4    0.0  0.000000  0.000000  0.000000    0.0    0.0   0.0      0.0  0.000000   \n",
       "\n",
       "      Lypd1  ...  Rgs5  Cux2       Grp      Ctgf     Calb1  Ighm     Npas4  \\\n",
       "0  0.000000  ...   0.0   0.0  0.000000  0.000000  0.000000   0.0  0.000000   \n",
       "1  2.038546  ...   0.0   0.0  0.000000  1.696158  0.000000   0.0  1.696158   \n",
       "2  0.000000  ...   0.0   0.0  1.163492  0.000000  1.163492   0.0  1.163492   \n",
       "3  4.355191  ...   0.0   0.0  1.577758  0.000000  0.000000   0.0  0.000000   \n",
       "4  1.518209  ...   0.0   0.0  0.000000  1.023178  0.000000   0.0  2.934932   \n",
       "\n",
       "       Sox4      Scg2  binary  \n",
       "0  1.205988  2.081960       0  \n",
       "1  0.000000  0.000000       0  \n",
       "2  0.000000  0.000000       0  \n",
       "3  1.577758  2.528305       0  \n",
       "4  0.000000  1.023178       0  \n",
       "\n",
       "[5 rows x 51 columns]"
      ]
     },
     "execution_count": 4,
     "metadata": {},
     "output_type": "execute_result"
    }
   ],
   "source": [
    "df.head()"
   ]
  },
  {
   "cell_type": "code",
   "execution_count": 5,
   "metadata": {
    "scrolled": false
   },
   "outputs": [
    {
     "data": {
      "text/plain": [
       "0    7876\n",
       "1     334\n",
       "Name: binary, dtype: int64"
      ]
     },
     "execution_count": 5,
     "metadata": {},
     "output_type": "execute_result"
    }
   ],
   "source": [
    "df['binary'].value_counts()"
   ]
  },
  {
   "cell_type": "code",
   "execution_count": 6,
   "metadata": {
    "scrolled": true
   },
   "outputs": [
    {
     "data": {
      "text/html": [
       "<style type=\"text/css\">\n",
       "#T_a9664_row8_col1 {\n",
       "  background-color: lightgreen;\n",
       "}\n",
       "</style>\n",
       "<table id=\"T_a9664\">\n",
       "  <thead>\n",
       "    <tr>\n",
       "      <th class=\"blank level0\" >&nbsp;</th>\n",
       "      <th id=\"T_a9664_level0_col0\" class=\"col_heading level0 col0\" >Description</th>\n",
       "      <th id=\"T_a9664_level0_col1\" class=\"col_heading level0 col1\" >Value</th>\n",
       "    </tr>\n",
       "  </thead>\n",
       "  <tbody>\n",
       "    <tr>\n",
       "      <th id=\"T_a9664_level0_row0\" class=\"row_heading level0 row0\" >0</th>\n",
       "      <td id=\"T_a9664_row0_col0\" class=\"data row0 col0\" >Session id</td>\n",
       "      <td id=\"T_a9664_row0_col1\" class=\"data row0 col1\" >1</td>\n",
       "    </tr>\n",
       "    <tr>\n",
       "      <th id=\"T_a9664_level0_row1\" class=\"row_heading level0 row1\" >1</th>\n",
       "      <td id=\"T_a9664_row1_col0\" class=\"data row1 col0\" >Target</td>\n",
       "      <td id=\"T_a9664_row1_col1\" class=\"data row1 col1\" >binary</td>\n",
       "    </tr>\n",
       "    <tr>\n",
       "      <th id=\"T_a9664_level0_row2\" class=\"row_heading level0 row2\" >2</th>\n",
       "      <td id=\"T_a9664_row2_col0\" class=\"data row2 col0\" >Target type</td>\n",
       "      <td id=\"T_a9664_row2_col1\" class=\"data row2 col1\" >Binary</td>\n",
       "    </tr>\n",
       "    <tr>\n",
       "      <th id=\"T_a9664_level0_row3\" class=\"row_heading level0 row3\" >3</th>\n",
       "      <td id=\"T_a9664_row3_col0\" class=\"data row3 col0\" >Original data shape</td>\n",
       "      <td id=\"T_a9664_row3_col1\" class=\"data row3 col1\" >(8210, 51)</td>\n",
       "    </tr>\n",
       "    <tr>\n",
       "      <th id=\"T_a9664_level0_row4\" class=\"row_heading level0 row4\" >4</th>\n",
       "      <td id=\"T_a9664_row4_col0\" class=\"data row4 col0\" >Transformed data shape</td>\n",
       "      <td id=\"T_a9664_row4_col1\" class=\"data row4 col1\" >(8210, 51)</td>\n",
       "    </tr>\n",
       "    <tr>\n",
       "      <th id=\"T_a9664_level0_row5\" class=\"row_heading level0 row5\" >5</th>\n",
       "      <td id=\"T_a9664_row5_col0\" class=\"data row5 col0\" >Transformed train set shape</td>\n",
       "      <td id=\"T_a9664_row5_col1\" class=\"data row5 col1\" >(5747, 51)</td>\n",
       "    </tr>\n",
       "    <tr>\n",
       "      <th id=\"T_a9664_level0_row6\" class=\"row_heading level0 row6\" >6</th>\n",
       "      <td id=\"T_a9664_row6_col0\" class=\"data row6 col0\" >Transformed test set shape</td>\n",
       "      <td id=\"T_a9664_row6_col1\" class=\"data row6 col1\" >(2463, 51)</td>\n",
       "    </tr>\n",
       "    <tr>\n",
       "      <th id=\"T_a9664_level0_row7\" class=\"row_heading level0 row7\" >7</th>\n",
       "      <td id=\"T_a9664_row7_col0\" class=\"data row7 col0\" >Numeric features</td>\n",
       "      <td id=\"T_a9664_row7_col1\" class=\"data row7 col1\" >50</td>\n",
       "    </tr>\n",
       "    <tr>\n",
       "      <th id=\"T_a9664_level0_row8\" class=\"row_heading level0 row8\" >8</th>\n",
       "      <td id=\"T_a9664_row8_col0\" class=\"data row8 col0\" >Preprocess</td>\n",
       "      <td id=\"T_a9664_row8_col1\" class=\"data row8 col1\" >True</td>\n",
       "    </tr>\n",
       "    <tr>\n",
       "      <th id=\"T_a9664_level0_row9\" class=\"row_heading level0 row9\" >9</th>\n",
       "      <td id=\"T_a9664_row9_col0\" class=\"data row9 col0\" >Imputation type</td>\n",
       "      <td id=\"T_a9664_row9_col1\" class=\"data row9 col1\" >simple</td>\n",
       "    </tr>\n",
       "    <tr>\n",
       "      <th id=\"T_a9664_level0_row10\" class=\"row_heading level0 row10\" >10</th>\n",
       "      <td id=\"T_a9664_row10_col0\" class=\"data row10 col0\" >Numeric imputation</td>\n",
       "      <td id=\"T_a9664_row10_col1\" class=\"data row10 col1\" >mean</td>\n",
       "    </tr>\n",
       "    <tr>\n",
       "      <th id=\"T_a9664_level0_row11\" class=\"row_heading level0 row11\" >11</th>\n",
       "      <td id=\"T_a9664_row11_col0\" class=\"data row11 col0\" >Categorical imputation</td>\n",
       "      <td id=\"T_a9664_row11_col1\" class=\"data row11 col1\" >mode</td>\n",
       "    </tr>\n",
       "    <tr>\n",
       "      <th id=\"T_a9664_level0_row12\" class=\"row_heading level0 row12\" >12</th>\n",
       "      <td id=\"T_a9664_row12_col0\" class=\"data row12 col0\" >Fold Generator</td>\n",
       "      <td id=\"T_a9664_row12_col1\" class=\"data row12 col1\" >StratifiedKFold</td>\n",
       "    </tr>\n",
       "    <tr>\n",
       "      <th id=\"T_a9664_level0_row13\" class=\"row_heading level0 row13\" >13</th>\n",
       "      <td id=\"T_a9664_row13_col0\" class=\"data row13 col0\" >Fold Number</td>\n",
       "      <td id=\"T_a9664_row13_col1\" class=\"data row13 col1\" >10</td>\n",
       "    </tr>\n",
       "    <tr>\n",
       "      <th id=\"T_a9664_level0_row14\" class=\"row_heading level0 row14\" >14</th>\n",
       "      <td id=\"T_a9664_row14_col0\" class=\"data row14 col0\" >CPU Jobs</td>\n",
       "      <td id=\"T_a9664_row14_col1\" class=\"data row14 col1\" >-1</td>\n",
       "    </tr>\n",
       "    <tr>\n",
       "      <th id=\"T_a9664_level0_row15\" class=\"row_heading level0 row15\" >15</th>\n",
       "      <td id=\"T_a9664_row15_col0\" class=\"data row15 col0\" >Use GPU</td>\n",
       "      <td id=\"T_a9664_row15_col1\" class=\"data row15 col1\" >False</td>\n",
       "    </tr>\n",
       "    <tr>\n",
       "      <th id=\"T_a9664_level0_row16\" class=\"row_heading level0 row16\" >16</th>\n",
       "      <td id=\"T_a9664_row16_col0\" class=\"data row16 col0\" >Log Experiment</td>\n",
       "      <td id=\"T_a9664_row16_col1\" class=\"data row16 col1\" >False</td>\n",
       "    </tr>\n",
       "    <tr>\n",
       "      <th id=\"T_a9664_level0_row17\" class=\"row_heading level0 row17\" >17</th>\n",
       "      <td id=\"T_a9664_row17_col0\" class=\"data row17 col0\" >Experiment Name</td>\n",
       "      <td id=\"T_a9664_row17_col1\" class=\"data row17 col1\" >clf-default-name</td>\n",
       "    </tr>\n",
       "    <tr>\n",
       "      <th id=\"T_a9664_level0_row18\" class=\"row_heading level0 row18\" >18</th>\n",
       "      <td id=\"T_a9664_row18_col0\" class=\"data row18 col0\" >USI</td>\n",
       "      <td id=\"T_a9664_row18_col1\" class=\"data row18 col1\" >61a8</td>\n",
       "    </tr>\n",
       "  </tbody>\n",
       "</table>\n"
      ],
      "text/plain": [
       "<pandas.io.formats.style.Styler at 0x284827790>"
      ]
     },
     "metadata": {},
     "output_type": "display_data"
    }
   ],
   "source": [
    "exp1 = setup(df, target = 'binary',session_id=1)"
   ]
  },
  {
   "cell_type": "code",
   "execution_count": 7,
   "metadata": {},
   "outputs": [
    {
     "data": {
      "text/html": [],
      "text/plain": [
       "<IPython.core.display.HTML object>"
      ]
     },
     "metadata": {},
     "output_type": "display_data"
    },
    {
     "data": {
      "text/html": [
       "<style type=\"text/css\">\n",
       "#T_f1e7a_row10_col0, #T_f1e7a_row10_col1, #T_f1e7a_row10_col2, #T_f1e7a_row10_col3, #T_f1e7a_row10_col4, #T_f1e7a_row10_col5, #T_f1e7a_row10_col6 {\n",
       "  background: yellow;\n",
       "}\n",
       "</style>\n",
       "<table id=\"T_f1e7a\">\n",
       "  <thead>\n",
       "    <tr>\n",
       "      <th class=\"blank level0\" >&nbsp;</th>\n",
       "      <th id=\"T_f1e7a_level0_col0\" class=\"col_heading level0 col0\" >Accuracy</th>\n",
       "      <th id=\"T_f1e7a_level0_col1\" class=\"col_heading level0 col1\" >AUC</th>\n",
       "      <th id=\"T_f1e7a_level0_col2\" class=\"col_heading level0 col2\" >Recall</th>\n",
       "      <th id=\"T_f1e7a_level0_col3\" class=\"col_heading level0 col3\" >Prec.</th>\n",
       "      <th id=\"T_f1e7a_level0_col4\" class=\"col_heading level0 col4\" >F1</th>\n",
       "      <th id=\"T_f1e7a_level0_col5\" class=\"col_heading level0 col5\" >Kappa</th>\n",
       "      <th id=\"T_f1e7a_level0_col6\" class=\"col_heading level0 col6\" >MCC</th>\n",
       "    </tr>\n",
       "    <tr>\n",
       "      <th class=\"index_name level0\" >Fold</th>\n",
       "      <th class=\"blank col0\" >&nbsp;</th>\n",
       "      <th class=\"blank col1\" >&nbsp;</th>\n",
       "      <th class=\"blank col2\" >&nbsp;</th>\n",
       "      <th class=\"blank col3\" >&nbsp;</th>\n",
       "      <th class=\"blank col4\" >&nbsp;</th>\n",
       "      <th class=\"blank col5\" >&nbsp;</th>\n",
       "      <th class=\"blank col6\" >&nbsp;</th>\n",
       "    </tr>\n",
       "  </thead>\n",
       "  <tbody>\n",
       "    <tr>\n",
       "      <th id=\"T_f1e7a_level0_row0\" class=\"row_heading level0 row0\" >0</th>\n",
       "      <td id=\"T_f1e7a_row0_col0\" class=\"data row0 col0\" >0.5843</td>\n",
       "      <td id=\"T_f1e7a_row0_col1\" class=\"data row0 col1\" >0.8251</td>\n",
       "      <td id=\"T_f1e7a_row0_col2\" class=\"data row0 col2\" >0.9565</td>\n",
       "      <td id=\"T_f1e7a_row0_col3\" class=\"data row0 col3\" >0.0846</td>\n",
       "      <td id=\"T_f1e7a_row0_col4\" class=\"data row0 col4\" >0.1555</td>\n",
       "      <td id=\"T_f1e7a_row0_col5\" class=\"data row0 col5\" >0.0885</td>\n",
       "      <td id=\"T_f1e7a_row0_col6\" class=\"data row0 col6\" >0.2068</td>\n",
       "    </tr>\n",
       "    <tr>\n",
       "      <th id=\"T_f1e7a_level0_row1\" class=\"row_heading level0 row1\" >1</th>\n",
       "      <td id=\"T_f1e7a_row1_col0\" class=\"data row1 col0\" >0.4435</td>\n",
       "      <td id=\"T_f1e7a_row1_col1\" class=\"data row1 col1\" >0.6973</td>\n",
       "      <td id=\"T_f1e7a_row1_col2\" class=\"data row1 col2\" >0.7826</td>\n",
       "      <td id=\"T_f1e7a_row1_col3\" class=\"data row1 col3\" >0.0541</td>\n",
       "      <td id=\"T_f1e7a_row1_col4\" class=\"data row1 col4\" >0.1011</td>\n",
       "      <td id=\"T_f1e7a_row1_col5\" class=\"data row1 col5\" >0.0284</td>\n",
       "      <td id=\"T_f1e7a_row1_col6\" class=\"data row1 col6\" >0.0841</td>\n",
       "    </tr>\n",
       "    <tr>\n",
       "      <th id=\"T_f1e7a_level0_row2\" class=\"row_heading level0 row2\" >2</th>\n",
       "      <td id=\"T_f1e7a_row2_col0\" class=\"data row2 col0\" >0.5513</td>\n",
       "      <td id=\"T_f1e7a_row2_col1\" class=\"data row2 col1\" >0.8331</td>\n",
       "      <td id=\"T_f1e7a_row2_col2\" class=\"data row2 col2\" >0.9565</td>\n",
       "      <td id=\"T_f1e7a_row2_col3\" class=\"data row2 col3\" >0.0789</td>\n",
       "      <td id=\"T_f1e7a_row2_col4\" class=\"data row2 col4\" >0.1457</td>\n",
       "      <td id=\"T_f1e7a_row2_col5\" class=\"data row2 col5\" >0.0775</td>\n",
       "      <td id=\"T_f1e7a_row2_col6\" class=\"data row2 col6\" >0.1925</td>\n",
       "    </tr>\n",
       "    <tr>\n",
       "      <th id=\"T_f1e7a_level0_row3\" class=\"row_heading level0 row3\" >3</th>\n",
       "      <td id=\"T_f1e7a_row3_col0\" class=\"data row3 col0\" >0.5583</td>\n",
       "      <td id=\"T_f1e7a_row3_col1\" class=\"data row3 col1\" >0.7677</td>\n",
       "      <td id=\"T_f1e7a_row3_col2\" class=\"data row3 col2\" >0.8333</td>\n",
       "      <td id=\"T_f1e7a_row3_col3\" class=\"data row3 col3\" >0.0741</td>\n",
       "      <td id=\"T_f1e7a_row3_col4\" class=\"data row3 col4\" >0.1361</td>\n",
       "      <td id=\"T_f1e7a_row3_col5\" class=\"data row3 col5\" >0.0643</td>\n",
       "      <td id=\"T_f1e7a_row3_col6\" class=\"data row3 col6\" >0.1521</td>\n",
       "    </tr>\n",
       "    <tr>\n",
       "      <th id=\"T_f1e7a_level0_row4\" class=\"row_heading level0 row4\" >4</th>\n",
       "      <td id=\"T_f1e7a_row4_col0\" class=\"data row4 col0\" >0.5930</td>\n",
       "      <td id=\"T_f1e7a_row4_col1\" class=\"data row4 col1\" >0.8128</td>\n",
       "      <td id=\"T_f1e7a_row4_col2\" class=\"data row4 col2\" >0.8750</td>\n",
       "      <td id=\"T_f1e7a_row4_col3\" class=\"data row4 col3\" >0.0833</td>\n",
       "      <td id=\"T_f1e7a_row4_col4\" class=\"data row4 col4\" >0.1522</td>\n",
       "      <td id=\"T_f1e7a_row4_col5\" class=\"data row4 col5\" >0.0822</td>\n",
       "      <td id=\"T_f1e7a_row4_col6\" class=\"data row4 col6\" >0.1837</td>\n",
       "    </tr>\n",
       "    <tr>\n",
       "      <th id=\"T_f1e7a_level0_row5\" class=\"row_heading level0 row5\" >5</th>\n",
       "      <td id=\"T_f1e7a_row5_col0\" class=\"data row5 col0\" >0.5791</td>\n",
       "      <td id=\"T_f1e7a_row5_col1\" class=\"data row5 col1\" >0.8178</td>\n",
       "      <td id=\"T_f1e7a_row5_col2\" class=\"data row5 col2\" >0.8333</td>\n",
       "      <td id=\"T_f1e7a_row5_col3\" class=\"data row5 col3\" >0.0775</td>\n",
       "      <td id=\"T_f1e7a_row5_col4\" class=\"data row5 col4\" >0.1418</td>\n",
       "      <td id=\"T_f1e7a_row5_col5\" class=\"data row5 col5\" >0.0709</td>\n",
       "      <td id=\"T_f1e7a_row5_col6\" class=\"data row5 col6\" >0.1614</td>\n",
       "    </tr>\n",
       "    <tr>\n",
       "      <th id=\"T_f1e7a_level0_row6\" class=\"row_heading level0 row6\" >6</th>\n",
       "      <td id=\"T_f1e7a_row6_col0\" class=\"data row6 col0\" >0.5670</td>\n",
       "      <td id=\"T_f1e7a_row6_col1\" class=\"data row6 col1\" >0.7739</td>\n",
       "      <td id=\"T_f1e7a_row6_col2\" class=\"data row6 col2\" >0.8333</td>\n",
       "      <td id=\"T_f1e7a_row6_col3\" class=\"data row6 col3\" >0.0755</td>\n",
       "      <td id=\"T_f1e7a_row6_col4\" class=\"data row6 col4\" >0.1384</td>\n",
       "      <td id=\"T_f1e7a_row6_col5\" class=\"data row6 col5\" >0.0670</td>\n",
       "      <td id=\"T_f1e7a_row6_col6\" class=\"data row6 col6\" >0.1559</td>\n",
       "    </tr>\n",
       "    <tr>\n",
       "      <th id=\"T_f1e7a_level0_row7\" class=\"row_heading level0 row7\" >7</th>\n",
       "      <td id=\"T_f1e7a_row7_col0\" class=\"data row7 col0\" >0.5505</td>\n",
       "      <td id=\"T_f1e7a_row7_col1\" class=\"data row7 col1\" >0.7645</td>\n",
       "      <td id=\"T_f1e7a_row7_col2\" class=\"data row7 col2\" >0.7391</td>\n",
       "      <td id=\"T_f1e7a_row7_col3\" class=\"data row7 col3\" >0.0632</td>\n",
       "      <td id=\"T_f1e7a_row7_col4\" class=\"data row7 col4\" >0.1164</td>\n",
       "      <td id=\"T_f1e7a_row7_col5\" class=\"data row7 col5\" >0.0460</td>\n",
       "      <td id=\"T_f1e7a_row7_col6\" class=\"data row7 col6\" >0.1107</td>\n",
       "    </tr>\n",
       "    <tr>\n",
       "      <th id=\"T_f1e7a_level0_row8\" class=\"row_heading level0 row8\" >8</th>\n",
       "      <td id=\"T_f1e7a_row8_col0\" class=\"data row8 col0\" >0.5941</td>\n",
       "      <td id=\"T_f1e7a_row8_col1\" class=\"data row8 col1\" >0.8070</td>\n",
       "      <td id=\"T_f1e7a_row8_col2\" class=\"data row8 col2\" >0.8696</td>\n",
       "      <td id=\"T_f1e7a_row8_col3\" class=\"data row8 col3\" >0.0800</td>\n",
       "      <td id=\"T_f1e7a_row8_col4\" class=\"data row8 col4\" >0.1465</td>\n",
       "      <td id=\"T_f1e7a_row8_col5\" class=\"data row8 col5\" >0.0789</td>\n",
       "      <td id=\"T_f1e7a_row8_col6\" class=\"data row8 col6\" >0.1788</td>\n",
       "    </tr>\n",
       "    <tr>\n",
       "      <th id=\"T_f1e7a_level0_row9\" class=\"row_heading level0 row9\" >9</th>\n",
       "      <td id=\"T_f1e7a_row9_col0\" class=\"data row9 col0\" >0.5418</td>\n",
       "      <td id=\"T_f1e7a_row9_col1\" class=\"data row9 col1\" >0.8370</td>\n",
       "      <td id=\"T_f1e7a_row9_col2\" class=\"data row9 col2\" >0.9565</td>\n",
       "      <td id=\"T_f1e7a_row9_col3\" class=\"data row9 col3\" >0.0775</td>\n",
       "      <td id=\"T_f1e7a_row9_col4\" class=\"data row9 col4\" >0.1433</td>\n",
       "      <td id=\"T_f1e7a_row9_col5\" class=\"data row9 col5\" >0.0747</td>\n",
       "      <td id=\"T_f1e7a_row9_col6\" class=\"data row9 col6\" >0.1887</td>\n",
       "    </tr>\n",
       "    <tr>\n",
       "      <th id=\"T_f1e7a_level0_row10\" class=\"row_heading level0 row10\" >Mean</th>\n",
       "      <td id=\"T_f1e7a_row10_col0\" class=\"data row10 col0\" >0.5563</td>\n",
       "      <td id=\"T_f1e7a_row10_col1\" class=\"data row10 col1\" >0.7936</td>\n",
       "      <td id=\"T_f1e7a_row10_col2\" class=\"data row10 col2\" >0.8636</td>\n",
       "      <td id=\"T_f1e7a_row10_col3\" class=\"data row10 col3\" >0.0749</td>\n",
       "      <td id=\"T_f1e7a_row10_col4\" class=\"data row10 col4\" >0.1377</td>\n",
       "      <td id=\"T_f1e7a_row10_col5\" class=\"data row10 col5\" >0.0678</td>\n",
       "      <td id=\"T_f1e7a_row10_col6\" class=\"data row10 col6\" >0.1615</td>\n",
       "    </tr>\n",
       "    <tr>\n",
       "      <th id=\"T_f1e7a_level0_row11\" class=\"row_heading level0 row11\" >Std</th>\n",
       "      <td id=\"T_f1e7a_row11_col0\" class=\"data row11 col0\" >0.0415</td>\n",
       "      <td id=\"T_f1e7a_row11_col1\" class=\"data row11 col1\" >0.0409</td>\n",
       "      <td id=\"T_f1e7a_row11_col2\" class=\"data row11 col2\" >0.0713</td>\n",
       "      <td id=\"T_f1e7a_row11_col3\" class=\"data row11 col3\" >0.0089</td>\n",
       "      <td id=\"T_f1e7a_row11_col4\" class=\"data row11 col4\" >0.0158</td>\n",
       "      <td id=\"T_f1e7a_row11_col5\" class=\"data row11 col5\" >0.0172</td>\n",
       "      <td id=\"T_f1e7a_row11_col6\" class=\"data row11 col6\" >0.0364</td>\n",
       "    </tr>\n",
       "  </tbody>\n",
       "</table>\n"
      ],
      "text/plain": [
       "<pandas.io.formats.style.Styler at 0x284f914c0>"
      ]
     },
     "metadata": {},
     "output_type": "display_data"
    },
    {
     "data": {
      "text/html": [],
      "text/plain": [
       "<IPython.core.display.HTML object>"
      ]
     },
     "metadata": {},
     "output_type": "display_data"
    }
   ],
   "source": [
    "nb = create_model('nb')"
   ]
  },
  {
   "cell_type": "code",
   "execution_count": 8,
   "metadata": {},
   "outputs": [],
   "source": [
    "Xtest = get_config('X_test')\n",
    "ytest = get_config('y_test')\n",
    "X_train = get_config('X_train')\n",
    "y_train = get_config('y_train')"
   ]
  },
  {
   "cell_type": "code",
   "execution_count": 15,
   "metadata": {},
   "outputs": [],
   "source": [
    "sample_size=1000\n",
    "sub_sampled_train_data = shap.sample(X_train, sample_size, random_state=0)\n",
    "sub_sampled_test_data = shap.sample(Xtest, sample_size, random_state=0)"
   ]
  },
  {
   "cell_type": "code",
   "execution_count": 16,
   "metadata": {},
   "outputs": [
    {
     "name": "stderr",
     "output_type": "stream",
     "text": [
      "Using 1000 background data samples could cause slower run times. Consider using shap.sample(data, K) or shap.kmeans(data, K) to summarize the background as K samples.\n"
     ]
    }
   ],
   "source": [
    "# explain all the predictions in the test set\n",
    "explainer = shap.KernelExplainer(nb.predict, sub_sampled_train_data)## nb,predict_proba generates barplot"
   ]
  },
  {
   "cell_type": "code",
   "execution_count": null,
   "metadata": {},
   "outputs": [
    {
     "data": {
      "application/vnd.jupyter.widget-view+json": {
       "model_id": "8d589bc67e32472f8c279c49c5ab3ac1",
       "version_major": 2,
       "version_minor": 0
      },
      "text/plain": [
       "  0%|          | 0/1000 [00:00<?, ?it/s]"
      ]
     },
     "metadata": {},
     "output_type": "display_data"
    }
   ],
   "source": [
    "shap_values = explainer.shap_values(sub_sampled_test_data)"
   ]
  },
  {
   "cell_type": "code",
   "execution_count": 12,
   "metadata": {},
   "outputs": [],
   "source": [
    "np.save(\"lh_shap_values_allcells.npy\", shap_values)\n",
    "#pd.DataFrame(shap_values).to_csv(\"lh_shap_values_500cells.csv\")"
   ]
  },
  {
   "cell_type": "code",
   "execution_count": 13,
   "metadata": {},
   "outputs": [
    {
     "data": {
      "image/png": "[encoded data removed]",
      "text/plain": [
       "<Figure size 576x684 with 2 Axes>"
      ]
     },
     "metadata": {
      "needs_background": "light"
     },
     "output_type": "display_data"
    }
   ],
   "source": [
    "shap.summary_plot(shap_values, sub_sampled_test_data,show=False)\n",
    "plt.savefig(\"LH var shap plot nb .pdf\",dpi=1000)"
   ]
  },
  {
   "cell_type": "code",
   "execution_count": 14,
   "metadata": {},
   "outputs": [
    {
     "name": "stdout",
     "output_type": "stream",
     "text": [
      "Transformation Pipeline and Model Successfully Saved\n"
     ]
    },
    {
     "data": {
      "text/plain": [
       "(Pipeline(memory=None,\n",
       "          steps=[('dtypes',\n",
       "                  DataTypes_Auto_infer(categorical_features=[],\n",
       "                                       display_types=False, features_todrop=[],\n",
       "                                       id_columns=[],\n",
       "                                       ml_usecase='classification',\n",
       "                                       numerical_features=[], target='binary',\n",
       "                                       time_features=[])),\n",
       "                 ('imputer',\n",
       "                  Simple_Imputer(categorical_strategy='not_available',\n",
       "                                 fill_value_categorical=None,\n",
       "                                 fill_value_numerical=None,\n",
       "                                 numeric_stra...\n",
       "                 ('binn', 'passthrough'), ('rem_outliers', 'passthrough'),\n",
       "                 ('cluster_all', 'passthrough'),\n",
       "                 ('dummy', Dummify(target='binary')),\n",
       "                 ('fix_perfect', Remove_100(target='binary')),\n",
       "                 ('clean_names', Clean_Colum_Names()),\n",
       "                 ('feature_select', 'passthrough'), ('fix_multi', 'passthrough'),\n",
       "                 ('dfs', 'passthrough'), ('pca', 'passthrough'),\n",
       "                 ['trained_model',\n",
       "                  GaussianNB(priors=None, var_smoothing=1e-09)]],\n",
       "          verbose=False),\n",
       " 'model_LH_20220921.pkl')"
      ]
     },
     "execution_count": 14,
     "metadata": {},
     "output_type": "execute_result"
    }
   ],
   "source": [
    "save_model(nb, model_name='model_LH_20220921')"
   ]
  },
  {
   "cell_type": "code",
   "execution_count": null,
   "metadata": {},
   "outputs": [],
   "source": []
  },
  {
   "cell_type": "code",
   "execution_count": null,
   "metadata": {},
   "outputs": [],
   "source": []
  },
  {
   "cell_type": "code",
   "execution_count": null,
   "metadata": {},
   "outputs": [],
   "source": []
  }
 ],
 "metadata": {
  "kernelspec": {
   "display_name": "Python (mamba-shap)",
   "language": "python",
   "name": "shap"
  },
  "language_info": {
   "codemirror_mode": {
    "name": "ipython",
    "version": 3
   },
   "file_extension": ".py",
   "mimetype": "text/x-python",
   "name": "python",
   "nbconvert_exporter": "python",
   "pygments_lexer": "ipython3",
   "version": "3.8.16"
  },
  "toc": {
   "base_numbering": 1,
   "nav_menu": {},
   "number_sections": true,
   "sideBar": true,
   "skip_h1_title": false,
   "title_cell": "Table of Contents",
   "title_sidebar": "Contents",
   "toc_cell": false,
   "toc_position": {},
   "toc_section_display": true,
   "toc_window_display": false
  },
  "varInspector": {
   "cols": {
    "lenName": 16,
    "lenType": 16,
    "lenVar": 40
   },
   "kernels_config": {
    "python": {
     "delete_cmd_postfix": "",
     "delete_cmd_prefix": "del ",
     "library": "var_list.py",
     "varRefreshCmd": "print(var_dic_list())"
    },
    "r": {
     "delete_cmd_postfix": ") ",
     "delete_cmd_prefix": "rm(",
     "library": "var_list.r",
     "varRefreshCmd": "cat(var_dic_list()) "
    }
   },
   "types_to_exclude": [
    "module",
    "function",
    "builtin_function_or_method",
    "instance",
    "_Feature"
   ],
   "window_display": false
  }
 },
 "nbformat": 4,
 "nbformat_minor": 2
}

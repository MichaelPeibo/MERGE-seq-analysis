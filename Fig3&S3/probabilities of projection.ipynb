{
 "cells": [
  {
   "cell_type": "code",
   "execution_count": 1,
   "metadata": {},
   "outputs": [],
   "source": [
    "import pandas as pd\n",
    "import numpy as np\n",
    "import matplotlib as mpl\n",
    "from matplotlib import cm\n",
    "from matplotlib import pyplot as plt\n",
    "from matplotlib.colors import LinearSegmentedColormap\n",
    "import matplotlib.gridspec as gridspec\n",
    "from matplotlib import patches\n",
    "import seaborn as sn\n",
    "from scipy.spatial.distance import pdist\n",
    "from sklearn.manifold import TSNE\n",
    "from scipy.stats import friedmanchisquare, kruskal, binom_test\n",
    "from sklearn.cluster import k_means\n",
    "from sklearn.preprocessing import normalize \n",
    "import itertools\n",
    "#from adjustText import adjust_text\n",
    "import multiprocessing as mp\n",
    "import itertools\n",
    "#import upsetplot as up\n",
    "#import cProfile #%%prun -s cumulative -q -l 15 -T prun0\n",
    "np.set_printoptions(suppress=True)"
   ]
  },
  {
   "cell_type": "code",
   "execution_count": 16,
   "metadata": {},
   "outputs": [
    {
     "data": {
      "text/plain": [
       "'/Users/peiboxu/Desktop/merge-seq analysis/elife_revision/code_file'"
      ]
     },
     "execution_count": 16,
     "metadata": {},
     "output_type": "execute_result"
    }
   ],
   "source": [
    "%pwd"
   ]
  },
  {
   "attachments": {},
   "cell_type": "markdown",
   "metadata": {},
   "source": [
    "## Plot conditional probabilities of projection\n",
    "\n",
    "Y-axis: Area B\n",
    "\n",
    "X-axis: Area A\n",
    "\n",
    "Values: $P(B\\ |\\ A)$ probability of projecting to B given projection to A \n",
    "\n",
    "How to calculcate...\n",
    "\n",
    "$P(B\\ |\\ A)$ Of all the neurons that project to A, what proportion also project to B"
   ]
  },
  {
   "cell_type": "code",
   "execution_count": 2,
   "metadata": {},
   "outputs": [],
   "source": [
    "def gen_prob_matrix(df : pd.DataFrame):\n",
    "    data = df.to_numpy(copy=True)\n",
    "    cells,regions = data.shape\n",
    "    mat = np.zeros((regions,regions)) #area B x area A\n",
    "    #loop over columns (region )\n",
    "    for col in range(regions):\n",
    "        #find all cells (rows in data) that project to 'col'\n",
    "        ids_col = np.where(data[:,col] != 0)[0]\n",
    "        sub_col = data[ids_col]\n",
    "        #of these, how many project to region B\n",
    "        for row in range(regions):\n",
    "            ids_row = np.where(sub_col[:,row] != 0)[0]\n",
    "            prob = ids_row.shape[0] / ids_col.shape[0]\n",
    "            #print(\"P({} | {}) = {}\".format(df.columns[row],df.columns[col],prob))\n",
    "            mat[col,row] = prob\n",
    "    mat = pd.DataFrame(mat, columns=df.columns)\n",
    "    mat.index = df.columns\n",
    "    return mat"
   ]
  },
  {
   "cell_type": "code",
   "execution_count": 9,
   "metadata": {},
   "outputs": [],
   "source": [
    "df = pd.read_csv('/Users/peiboxu/Desktop/merge-seq analysis/elife_revision/results/bar.mat.drop_ecdf.0.999.filter_top.05.quantile.csv',header=0,index_col=0)"
   ]
  },
  {
   "cell_type": "code",
   "execution_count": 10,
   "metadata": {},
   "outputs": [
    {
     "data": {
      "text/html": [
       "<div>\n",
       "<style scoped>\n",
       "    .dataframe tbody tr th:only-of-type {\n",
       "        vertical-align: middle;\n",
       "    }\n",
       "\n",
       "    .dataframe tbody tr th {\n",
       "        vertical-align: top;\n",
       "    }\n",
       "\n",
       "    .dataframe thead th {\n",
       "        text-align: right;\n",
       "    }\n",
       "</style>\n",
       "<table border=\"1\" class=\"dataframe\">\n",
       "  <thead>\n",
       "    <tr style=\"text-align: right;\">\n",
       "      <th></th>\n",
       "      <th>AI</th>\n",
       "      <th>DMS</th>\n",
       "      <th>MD</th>\n",
       "      <th>BLA</th>\n",
       "      <th>LH</th>\n",
       "    </tr>\n",
       "  </thead>\n",
       "  <tbody>\n",
       "    <tr>\n",
       "      <th>pfc_1_AAACCCACAAATGGCG</th>\n",
       "      <td>0</td>\n",
       "      <td>0</td>\n",
       "      <td>0</td>\n",
       "      <td>0</td>\n",
       "      <td>0</td>\n",
       "    </tr>\n",
       "    <tr>\n",
       "      <th>pfc_1_AAACCCACAGCATTGT</th>\n",
       "      <td>0</td>\n",
       "      <td>0</td>\n",
       "      <td>0</td>\n",
       "      <td>0</td>\n",
       "      <td>0</td>\n",
       "    </tr>\n",
       "    <tr>\n",
       "      <th>pfc_1_AAACCCACATAGGCGA</th>\n",
       "      <td>39</td>\n",
       "      <td>0</td>\n",
       "      <td>0</td>\n",
       "      <td>0</td>\n",
       "      <td>0</td>\n",
       "    </tr>\n",
       "    <tr>\n",
       "      <th>pfc_1_AAACCCAGTATGCTAC</th>\n",
       "      <td>0</td>\n",
       "      <td>0</td>\n",
       "      <td>0</td>\n",
       "      <td>0</td>\n",
       "      <td>0</td>\n",
       "    </tr>\n",
       "    <tr>\n",
       "      <th>pfc_1_AAACCCAGTCTACTGA</th>\n",
       "      <td>0</td>\n",
       "      <td>0</td>\n",
       "      <td>0</td>\n",
       "      <td>0</td>\n",
       "      <td>0</td>\n",
       "    </tr>\n",
       "  </tbody>\n",
       "</table>\n",
       "</div>"
      ],
      "text/plain": [
       "                        AI  DMS  MD  BLA  LH\n",
       "pfc_1_AAACCCACAAATGGCG   0    0   0    0   0\n",
       "pfc_1_AAACCCACAGCATTGT   0    0   0    0   0\n",
       "pfc_1_AAACCCACATAGGCGA  39    0   0    0   0\n",
       "pfc_1_AAACCCAGTATGCTAC   0    0   0    0   0\n",
       "pfc_1_AAACCCAGTCTACTGA   0    0   0    0   0"
      ]
     },
     "execution_count": 10,
     "metadata": {},
     "output_type": "execute_result"
    }
   ],
   "source": [
    "df.head()"
   ]
  },
  {
   "cell_type": "code",
   "execution_count": 11,
   "metadata": {},
   "outputs": [],
   "source": [
    "probmat = gen_prob_matrix(df)"
   ]
  },
  {
   "cell_type": "code",
   "execution_count": 17,
   "metadata": {},
   "outputs": [
    {
     "data": {
      "image/png": "[encoded data removed]",
      "text/plain": [
       "<Figure size 1000x1000 with 2 Axes>"
      ]
     },
     "metadata": {},
     "output_type": "display_data"
    }
   ],
   "source": [
    "fig, ax = plt.subplots(figsize=(10,10))\n",
    "#ax.set_title(save_name.replace('_',''),fontsize=20)\n",
    "colors2 = ['black','red','orange','yellow']\n",
    "#colors2 = ['darkblue','#1f9ed1','#26ffc5','#ffc526','yellow']\n",
    "cm2 = LinearSegmentedColormap.from_list(\n",
    "        'white_to_red', colors2, N=100)\n",
    "ax.set_facecolor('#a8a8a8')\n",
    "ax = sn.heatmap(probmat.T,mask=probmat.T == 1,ax=ax,cbar_kws=dict(label='$P(B | A)$'),cmap=cm2,vmax=0.6)\n",
    "ax.set_xlabel(\"Area A\",fontsize=16)\n",
    "ax.set_ylabel(\"Area B\",fontsize=16)\n",
    "plt.savefig(\"fig3_probability_heatmap.pdf\")"
   ]
  },
  {
   "cell_type": "code",
   "execution_count": null,
   "metadata": {},
   "outputs": [],
   "source": []
  }
 ],
 "metadata": {
  "kernelspec": {
   "display_name": "Python 3",
   "language": "python",
   "name": "python3"
  },
  "language_info": {
   "codemirror_mode": {
    "name": "ipython",
    "version": 3
   },
   "file_extension": ".py",
   "mimetype": "text/x-python",
   "name": "python",
   "nbconvert_exporter": "python",
   "pygments_lexer": "ipython3",
   "version": "3.10.4"
  }
 },
 "nbformat": 4,
 "nbformat_minor": 4
}

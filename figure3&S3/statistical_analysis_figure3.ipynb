{
 "cells": [
  {
   "cell_type": "code",
   "execution_count": 21,
   "metadata": {},
   "outputs": [],
   "source": [
    "import sympy\n",
    "from sympy import symbol,symbols, Product, Sum, Array, N\n",
    "from sympy import expr\n",
    "from scipy.stats import binom_test\n",
    "import numpy as np\n",
    "import pandas as pd"
   ]
  },
  {
   "cell_type": "code",
   "execution_count": 22,
   "metadata": {},
   "outputs": [],
   "source": [
    "#N0=9368\n",
    "m=4"
   ]
  },
  {
   "cell_type": "code",
   "execution_count": 23,
   "metadata": {},
   "outputs": [],
   "source": [
    "N0,k = symbols('N0,k')"
   ]
  },
  {
   "cell_type": "code",
   "execution_count": 3,
   "metadata": {},
   "outputs": [
    {
     "ename": "SyntaxError",
     "evalue": "invalid syntax (<ipython-input-3-cb6c982c4ec9>, line 3)",
     "output_type": "error",
     "traceback": [
      "\u001b[0;36m  File \u001b[0;32m\"<ipython-input-3-cb6c982c4ec9>\"\u001b[0;36m, line \u001b[0;32m3\u001b[0m\n\u001b[0;31m    ```python\u001b[0m\n\u001b[0m    ^\u001b[0m\n\u001b[0;31mSyntaxError\u001b[0m\u001b[0;31m:\u001b[0m invalid syntax\n"
     ]
    }
   ],
   "source": [
    "### 5 regions\n",
    "#### only pfc_4(facs sample)\n",
    "```python\n",
    "AI      658  \n",
    "DMS      2338  \n",
    "LH      387  \n",
    "BLA     329  \n",
    "MD       614  \n",
    "\n",
    "\n",
    "658+2338+387+329+614 = 4326 total projections\n",
    "Obs cells: 3183\n",
    "```"
   ]
  },
  {
   "cell_type": "code",
   "execution_count": 4,
   "metadata": {},
   "outputs": [],
   "source": [
    "\n",
    "s = Array([658,2338,387,329,614])"
   ]
  },
  {
   "cell_type": "code",
   "execution_count": 24,
   "metadata": {},
   "outputs": [
    {
     "data": {
      "text/latex": [
       "$\\displaystyle - \\left(1 - \\frac{2338}{N_{0}}\\right) \\left(1 - \\frac{658}{N_{0}}\\right) \\left(1 - \\frac{614}{N_{0}}\\right) \\left(1 - \\frac{387}{N_{0}}\\right) \\left(1 - \\frac{329}{N_{0}}\\right) + 1$"
      ],
      "text/plain": [
       "-(1 - 2338/N0)*(1 - 658/N0)*(1 - 614/N0)*(1 - 387/N0)*(1 - 329/N0) + 1"
      ]
     },
     "execution_count": 24,
     "metadata": {},
     "output_type": "execute_result"
    }
   ],
   "source": [
    "m = 4\n",
    "pi = (1 - Product((1 - (s[k]/N0)),(k, 0, m)).doit())\n",
    "pi"
   ]
  },
  {
   "cell_type": "code",
   "execution_count": 8,
   "metadata": {},
   "outputs": [],
   "source": [
    "soln = sympy.solve(pi * N0 - 3183)\n"
   ]
  },
  {
   "cell_type": "code",
   "execution_count": 9,
   "metadata": {
    "scrolled": false
   },
   "outputs": [
    {
     "data": {
      "text/plain": [
       "[228.119507861053 - 226.427935162643*I,\n",
       " 228.119507861053 + 226.427935162643*I,\n",
       " 4652.97805222420,\n",
       " 218.894043164807]"
      ]
     },
     "execution_count": 9,
     "metadata": {},
     "output_type": "execute_result"
    }
   ],
   "source": [
    "roots = [N(x) for x in soln]\n",
    "roots"
   ]
  },
  {
   "cell_type": "code",
   "execution_count": 10,
   "metadata": {
    "scrolled": true
   },
   "outputs": [
    {
     "data": {
      "text/latex": [
       "$\\displaystyle 1 - \\frac{\\left(N_{0} - 2338\\right) \\left(N_{0} - 658\\right) \\left(N_{0} - 614\\right) \\left(N_{0} - 387\\right) \\left(N_{0} - 329\\right)}{N_{0}^{5}}$"
      ],
      "text/plain": [
       "1 - (N0 - 2338)*(N0 - 658)*(N0 - 614)*(N0 - 387)*(N0 - 329)/N0**5"
      ]
     },
     "execution_count": 10,
     "metadata": {},
     "output_type": "execute_result"
    }
   ],
   "source": [
    "sympy.simplify((1 - Product((1 - (s[k]/N0)),(k, 0, m)))).doit()"
   ]
  },
  {
   "cell_type": "code",
   "execution_count": 14,
   "metadata": {},
   "outputs": [
    {
     "data": {
      "text/plain": [
       "[0.14141480845487014,\n",
       " 0.5024738938715598,\n",
       " 0.08317253931920174,\n",
       " 0.07070740422743507,\n",
       " 0.13195849907490922]"
      ]
     },
     "execution_count": 14,
     "metadata": {},
     "output_type": "execute_result"
    }
   ],
   "source": [
    "ps = [(x/4652.97805222420) for x in np.array([658,2338,387,329,614])]\n",
    "ps"
   ]
  },
  {
   "cell_type": "code",
   "execution_count": 15,
   "metadata": {},
   "outputs": [],
   "source": [
    "psdict = {\n",
    "'AI' : 0.14141480845487014,\n",
    "'DMS' : 0.5024738938715598,\n",
    "'LH'  : 0.08317253931920174,\n",
    "'BLA' : 0.07070740422743507,  \n",
    "'MD' : 0.13195849907490922\n",
    "}"
   ]
  },
  {
   "cell_type": "code",
   "execution_count": 16,
   "metadata": {},
   "outputs": [],
   "source": [
    "pe = symbols('p_e')"
   ]
  },
  {
   "cell_type": "code",
   "execution_count": 17,
   "metadata": {
    "scrolled": false
   },
   "outputs": [
    {
     "data": {
      "text/plain": [
       "[0.205825443266392,\n",
       " 0.754586565469124 - 0.755304887257313*I,\n",
       " 0.754586565469124 + 0.755304887257313*I,\n",
       " 1.64250071289768 - 0.466804092193927*I,\n",
       " 1.64250071289768 + 0.466804092193927*I]"
      ]
     },
     "execution_count": 17,
     "metadata": {},
     "output_type": "execute_result"
    }
   ],
   "source": [
    "sympy.solve((1-(1-pe)**5) * 4652.97805222420 - 3183,[pe],force=True)"
   ]
  },
  {
   "cell_type": "code",
   "execution_count": null,
   "metadata": {},
   "outputs": [],
   "source": []
  },
  {
   "cell_type": "code",
   "execution_count": null,
   "metadata": {},
   "outputs": [],
   "source": []
  }
 ],
 "metadata": {
  "kernelspec": {
   "display_name": "Python [conda env:myenv]",
   "language": "python",
   "name": "conda-env-myenv-py"
  },
  "language_info": {
   "codemirror_mode": {
    "name": "ipython",
    "version": 3
   },
   "file_extension": ".py",
   "mimetype": "text/x-python",
   "name": "python",
   "nbconvert_exporter": "python",
   "pygments_lexer": "ipython3",
   "version": "3.7.3"
  },
  "toc": {
   "base_numbering": 1,
   "nav_menu": {},
   "number_sections": true,
   "sideBar": true,
   "skip_h1_title": false,
   "title_cell": "Table of Contents",
   "title_sidebar": "Contents",
   "toc_cell": false,
   "toc_position": {},
   "toc_section_display": true,
   "toc_window_display": false
  },
  "varInspector": {
   "cols": {
    "lenName": 16,
    "lenType": 16,
    "lenVar": 40
   },
   "kernels_config": {
    "python": {
     "delete_cmd_postfix": "",
     "delete_cmd_prefix": "del ",
     "library": "var_list.py",
     "varRefreshCmd": "print(var_dic_list())"
    },
    "r": {
     "delete_cmd_postfix": ") ",
     "delete_cmd_prefix": "rm(",
     "library": "var_list.r",
     "varRefreshCmd": "cat(var_dic_list()) "
    }
   },
   "types_to_exclude": [
    "module",
    "function",
    "builtin_function_or_method",
    "instance",
    "_Feature"
   ],
   "window_display": false
  }
 },
 "nbformat": 4,
 "nbformat_minor": 2
}
